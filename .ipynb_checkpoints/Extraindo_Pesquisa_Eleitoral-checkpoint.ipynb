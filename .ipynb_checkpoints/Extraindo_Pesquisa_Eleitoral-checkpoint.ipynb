{
 "cells": [
  {
   "cell_type": "code",
   "execution_count": 2,
   "id": "c801c3a8",
   "metadata": {},
   "outputs": [
    {
     "name": "stdout",
     "output_type": "stream",
     "text": [
      "Requirement already satisfied: basedosdados in c:\\users\\kai-q\\anaconda3\\lib\\site-packages (1.6.8)\n",
      "Requirement already satisfied: importlib-metadata<5.0.0,>=4.11.3 in c:\\users\\kai-q\\anaconda3\\lib\\site-packages (from basedosdados) (4.11.3)\n",
      "Requirement already satisfied: google-cloud-bigquery-storage==1.1.0 in c:\\users\\kai-q\\anaconda3\\lib\\site-packages (from basedosdados) (1.1.0)\n",
      "Requirement already satisfied: ipykernel==5.3.4 in c:\\users\\kai-q\\anaconda3\\lib\\site-packages (from basedosdados) (5.3.4)\n",
      "Requirement already satisfied: mkdocs<2.0.0,>=1.2.3 in c:\\users\\kai-q\\anaconda3\\lib\\site-packages (from basedosdados) (1.4.2)\n",
      "Requirement already satisfied: mkdocstrings<0.19.0,>=0.18.1 in c:\\users\\kai-q\\anaconda3\\lib\\site-packages (from basedosdados) (0.18.1)\n",
      "Requirement already satisfied: google-cloud-bigquery==2.30.1 in c:\\users\\kai-q\\anaconda3\\lib\\site-packages (from basedosdados) (2.30.1)\n",
      "Requirement already satisfied: Jinja2==3.0.3 in c:\\users\\kai-q\\anaconda3\\lib\\site-packages (from basedosdados) (3.0.3)\n",
      "Requirement already satisfied: ckanapi==4.6 in c:\\users\\kai-q\\anaconda3\\lib\\site-packages (from basedosdados) (4.6)\n",
      "Requirement already satisfied: loguru<0.7.0,>=0.6.0 in c:\\users\\kai-q\\anaconda3\\lib\\site-packages (from basedosdados) (0.6.0)\n",
      "Requirement already satisfied: pyarrow==6.0.0 in c:\\users\\kai-q\\anaconda3\\lib\\site-packages (from basedosdados) (6.0.0)\n",
      "Requirement already satisfied: mkdocs-material<9.0.0,>=8.2.7 in c:\\users\\kai-q\\anaconda3\\lib\\site-packages (from basedosdados) (8.5.10)\n",
      "Requirement already satisfied: pytest==6.0.2 in c:\\users\\kai-q\\anaconda3\\lib\\site-packages (from basedosdados) (6.0.2)\n",
      "Requirement already satisfied: black==20.8b1 in c:\\users\\kai-q\\anaconda3\\lib\\site-packages (from basedosdados) (20.8b1)\n",
      "Requirement already satisfied: toml<0.11.0,>=0.10.2 in c:\\users\\kai-q\\anaconda3\\lib\\site-packages (from basedosdados) (0.10.2)\n",
      "Requirement already satisfied: ruamel.yaml==0.17.10 in c:\\users\\kai-q\\anaconda3\\lib\\site-packages (from basedosdados) (0.17.10)\n",
      "Requirement already satisfied: tqdm==4.50.2 in c:\\users\\kai-q\\anaconda3\\lib\\site-packages (from basedosdados) (4.50.2)\n",
      "Requirement already satisfied: click==8.0.3 in c:\\users\\kai-q\\anaconda3\\lib\\site-packages (from basedosdados) (8.0.3)\n",
      "Requirement already satisfied: pyaml==20.4.0 in c:\\users\\kai-q\\anaconda3\\lib\\site-packages (from basedosdados) (20.4.0)\n",
      "Requirement already satisfied: pandas-gbq<0.18.0,>=0.17.4 in c:\\users\\kai-q\\anaconda3\\lib\\site-packages (from basedosdados) (0.17.9)\n",
      "Requirement already satisfied: tomlkit==0.7.0 in c:\\users\\kai-q\\anaconda3\\lib\\site-packages (from basedosdados) (0.7.0)\n",
      "Requirement already satisfied: mkdocs-click<0.6.0,>=0.5.0 in c:\\users\\kai-q\\anaconda3\\lib\\site-packages (from basedosdados) (0.5.0)\n",
      "Requirement already satisfied: pandas==1.2.4 in c:\\users\\kai-q\\anaconda3\\lib\\site-packages (from basedosdados) (1.2.4)\n",
      "Requirement already satisfied: pandavro<2.0.0,>=1.6.0 in c:\\users\\kai-q\\anaconda3\\lib\\site-packages (from basedosdados) (1.7.1)\n",
      "Requirement already satisfied: google-cloud-storage==1.42.3 in c:\\users\\kai-q\\anaconda3\\lib\\site-packages (from basedosdados) (1.42.3)\n",
      "Requirement already satisfied: jupyter<2.0.0,>=1.0.0 in c:\\users\\kai-q\\anaconda3\\lib\\site-packages (from basedosdados) (1.0.0)\n",
      "Requirement already satisfied: mypy-extensions>=0.4.3 in c:\\users\\kai-q\\anaconda3\\lib\\site-packages (from black==20.8b1->basedosdados) (0.4.3)\n",
      "Requirement already satisfied: appdirs in c:\\users\\kai-q\\anaconda3\\lib\\site-packages (from black==20.8b1->basedosdados) (1.4.4)\n",
      "Requirement already satisfied: regex>=2020.1.8 in c:\\users\\kai-q\\anaconda3\\lib\\site-packages (from black==20.8b1->basedosdados) (2022.7.9)\n",
      "Requirement already satisfied: pathspec<1,>=0.6 in c:\\users\\kai-q\\anaconda3\\lib\\site-packages (from black==20.8b1->basedosdados) (0.9.0)\n",
      "Requirement already satisfied: typed-ast>=1.4.0 in c:\\users\\kai-q\\anaconda3\\lib\\site-packages (from black==20.8b1->basedosdados) (1.5.4)\n",
      "Requirement already satisfied: typing-extensions>=3.7.4 in c:\\users\\kai-q\\anaconda3\\lib\\site-packages (from black==20.8b1->basedosdados) (4.3.0)\n",
      "Requirement already satisfied: requests in c:\\users\\kai-q\\anaconda3\\lib\\site-packages (from ckanapi==4.6->basedosdados) (2.28.1)\n",
      "Requirement already satisfied: setuptools in c:\\users\\kai-q\\anaconda3\\lib\\site-packages (from ckanapi==4.6->basedosdados) (63.4.1)\n",
      "Requirement already satisfied: six<2.0,>=1.9 in c:\\users\\kai-q\\anaconda3\\lib\\site-packages (from ckanapi==4.6->basedosdados) (1.16.0)\n",
      "Requirement already satisfied: python-slugify>=1.0 in c:\\users\\kai-q\\anaconda3\\lib\\site-packages (from ckanapi==4.6->basedosdados) (5.0.2)\n",
      "Requirement already satisfied: docopt in c:\\users\\kai-q\\anaconda3\\lib\\site-packages (from ckanapi==4.6->basedosdados) (0.6.2)\n",
      "Requirement already satisfied: colorama in c:\\users\\kai-q\\anaconda3\\lib\\site-packages (from click==8.0.3->basedosdados) (0.4.5)\n",
      "Requirement already satisfied: proto-plus>=1.10.0 in c:\\users\\kai-q\\anaconda3\\lib\\site-packages (from google-cloud-bigquery==2.30.1->basedosdados) (1.22.1)\n",
      "Requirement already satisfied: google-api-core[grpc]<3.0.0dev,>=1.29.0 in c:\\users\\kai-q\\anaconda3\\lib\\site-packages (from google-cloud-bigquery==2.30.1->basedosdados) (1.33.2)\n",
      "Requirement already satisfied: protobuf>=3.12.0 in c:\\users\\kai-q\\anaconda3\\lib\\site-packages (from google-cloud-bigquery==2.30.1->basedosdados) (3.20.3)\n",
      "Requirement already satisfied: python-dateutil<3.0dev,>=2.7.2 in c:\\users\\kai-q\\anaconda3\\lib\\site-packages (from google-cloud-bigquery==2.30.1->basedosdados) (2.8.2)\n",
      "Requirement already satisfied: grpcio<2.0dev,>=1.38.1 in c:\\users\\kai-q\\anaconda3\\lib\\site-packages (from google-cloud-bigquery==2.30.1->basedosdados) (1.50.0)\n",
      "Requirement already satisfied: packaging>=14.3 in c:\\users\\kai-q\\anaconda3\\lib\\site-packages (from google-cloud-bigquery==2.30.1->basedosdados) (21.3)\n",
      "Requirement already satisfied: google-cloud-core<3.0.0dev,>=1.4.1 in c:\\users\\kai-q\\anaconda3\\lib\\site-packages (from google-cloud-bigquery==2.30.1->basedosdados) (2.3.2)\n",
      "Requirement already satisfied: google-resumable-media<3.0dev,>=0.6.0 in c:\\users\\kai-q\\anaconda3\\lib\\site-packages (from google-cloud-bigquery==2.30.1->basedosdados) (2.4.0)\n",
      "Requirement already satisfied: google-auth<3.0dev,>=1.25.0 in c:\\users\\kai-q\\anaconda3\\lib\\site-packages (from google-cloud-storage==1.42.3->basedosdados) (2.14.1)\n",
      "Requirement already satisfied: tornado>=4.2 in c:\\users\\kai-q\\anaconda3\\lib\\site-packages (from ipykernel==5.3.4->basedosdados) (6.1)\n",
      "Requirement already satisfied: jupyter-client in c:\\users\\kai-q\\anaconda3\\lib\\site-packages (from ipykernel==5.3.4->basedosdados) (7.3.4)\n",
      "Requirement already satisfied: ipython>=5.0.0 in c:\\users\\kai-q\\anaconda3\\lib\\site-packages (from ipykernel==5.3.4->basedosdados) (7.31.1)\n",
      "Requirement already satisfied: traitlets>=4.1.0 in c:\\users\\kai-q\\anaconda3\\lib\\site-packages (from ipykernel==5.3.4->basedosdados) (5.1.1)\n",
      "Requirement already satisfied: MarkupSafe>=2.0 in c:\\users\\kai-q\\anaconda3\\lib\\site-packages (from Jinja2==3.0.3->basedosdados) (2.0.1)\n",
      "Requirement already satisfied: numpy>=1.16.5 in c:\\users\\kai-q\\anaconda3\\lib\\site-packages (from pandas==1.2.4->basedosdados) (1.21.5)\n",
      "Requirement already satisfied: pytz>=2017.3 in c:\\users\\kai-q\\anaconda3\\lib\\site-packages (from pandas==1.2.4->basedosdados) (2022.1)\n",
      "Requirement already satisfied: PyYAML in c:\\users\\kai-q\\anaconda3\\lib\\site-packages (from pyaml==20.4.0->basedosdados) (6.0)\n",
      "Requirement already satisfied: attrs>=17.4.0 in c:\\users\\kai-q\\anaconda3\\lib\\site-packages (from pytest==6.0.2->basedosdados) (21.4.0)\n",
      "Requirement already satisfied: atomicwrites>=1.0 in c:\\users\\kai-q\\anaconda3\\lib\\site-packages (from pytest==6.0.2->basedosdados) (1.4.0)\n",
      "Requirement already satisfied: pluggy<1.0,>=0.12 in c:\\users\\kai-q\\anaconda3\\lib\\site-packages (from pytest==6.0.2->basedosdados) (0.13.1)\n",
      "Requirement already satisfied: py>=1.8.2 in c:\\users\\kai-q\\anaconda3\\lib\\site-packages (from pytest==6.0.2->basedosdados) (1.11.0)\n",
      "Requirement already satisfied: iniconfig in c:\\users\\kai-q\\anaconda3\\lib\\site-packages (from pytest==6.0.2->basedosdados) (1.1.1)\n",
      "Requirement already satisfied: more-itertools>=4.0.0 in c:\\users\\kai-q\\anaconda3\\lib\\site-packages (from pytest==6.0.2->basedosdados) (9.0.0)\n",
      "Requirement already satisfied: ruamel.yaml.clib>=0.1.2 in c:\\users\\kai-q\\anaconda3\\lib\\site-packages (from ruamel.yaml==0.17.10->basedosdados) (0.2.7)\n",
      "Requirement already satisfied: zipp>=0.5 in c:\\users\\kai-q\\anaconda3\\lib\\site-packages (from importlib-metadata<5.0.0,>=4.11.3->basedosdados) (3.8.0)\n",
      "Requirement already satisfied: qtconsole in c:\\users\\kai-q\\anaconda3\\lib\\site-packages (from jupyter<2.0.0,>=1.0.0->basedosdados) (5.2.2)\n",
      "Requirement already satisfied: notebook in c:\\users\\kai-q\\anaconda3\\lib\\site-packages (from jupyter<2.0.0,>=1.0.0->basedosdados) (6.4.12)\n",
      "Requirement already satisfied: jupyter-console in c:\\users\\kai-q\\anaconda3\\lib\\site-packages (from jupyter<2.0.0,>=1.0.0->basedosdados) (6.4.3)\n",
      "Requirement already satisfied: ipywidgets in c:\\users\\kai-q\\anaconda3\\lib\\site-packages (from jupyter<2.0.0,>=1.0.0->basedosdados) (7.6.5)\n",
      "Requirement already satisfied: nbconvert in c:\\users\\kai-q\\anaconda3\\lib\\site-packages (from jupyter<2.0.0,>=1.0.0->basedosdados) (6.4.4)\n",
      "Requirement already satisfied: win32-setctime>=1.0.0 in c:\\users\\kai-q\\anaconda3\\lib\\site-packages (from loguru<0.7.0,>=0.6.0->basedosdados) (1.1.0)\n",
      "Requirement already satisfied: mergedeep>=1.3.4 in c:\\users\\kai-q\\anaconda3\\lib\\site-packages (from mkdocs<2.0.0,>=1.2.3->basedosdados) (1.3.4)\n",
      "Requirement already satisfied: ghp-import>=1.0 in c:\\users\\kai-q\\anaconda3\\lib\\site-packages (from mkdocs<2.0.0,>=1.2.3->basedosdados) (2.1.0)\n",
      "Requirement already satisfied: pyyaml-env-tag>=0.1 in c:\\users\\kai-q\\anaconda3\\lib\\site-packages (from mkdocs<2.0.0,>=1.2.3->basedosdados) (0.1)\n",
      "Requirement already satisfied: watchdog>=2.0 in c:\\users\\kai-q\\anaconda3\\lib\\site-packages (from mkdocs<2.0.0,>=1.2.3->basedosdados) (2.1.6)\n",
      "Requirement already satisfied: markdown<3.4,>=3.2.1 in c:\\users\\kai-q\\anaconda3\\lib\\site-packages (from mkdocs<2.0.0,>=1.2.3->basedosdados) (3.3.4)\n",
      "Requirement already satisfied: pygments>=2.12 in c:\\users\\kai-q\\anaconda3\\lib\\site-packages (from mkdocs-material<9.0.0,>=8.2.7->basedosdados) (2.13.0)\n",
      "Requirement already satisfied: pymdown-extensions>=9.4 in c:\\users\\kai-q\\anaconda3\\lib\\site-packages (from mkdocs-material<9.0.0,>=8.2.7->basedosdados) (9.9)\n",
      "Requirement already satisfied: mkdocs-material-extensions>=1.1 in c:\\users\\kai-q\\anaconda3\\lib\\site-packages (from mkdocs-material<9.0.0,>=8.2.7->basedosdados) (1.1.1)\n",
      "Requirement already satisfied: mkdocstrings-python-legacy>=0.2 in c:\\users\\kai-q\\anaconda3\\lib\\site-packages (from mkdocstrings<0.19.0,>=0.18.1->basedosdados) (0.2.2)\n",
      "Requirement already satisfied: mkdocs-autorefs>=0.3.1 in c:\\users\\kai-q\\anaconda3\\lib\\site-packages (from mkdocstrings<0.19.0,>=0.18.1->basedosdados) (0.4.1)\n",
      "Requirement already satisfied: pydata-google-auth in c:\\users\\kai-q\\anaconda3\\lib\\site-packages (from pandas-gbq<0.18.0,>=0.17.4->basedosdados) (1.4.0)\n",
      "Requirement already satisfied: google-auth-oauthlib>=0.0.1 in c:\\users\\kai-q\\anaconda3\\lib\\site-packages (from pandas-gbq<0.18.0,>=0.17.4->basedosdados) (0.7.1)\n",
      "Requirement already satisfied: db-dtypes<2.0.0,>=0.3.1 in c:\\users\\kai-q\\anaconda3\\lib\\site-packages (from pandas-gbq<0.18.0,>=0.17.4->basedosdados) (1.0.4)\n",
      "Requirement already satisfied: fastavro==1.5.1 in c:\\users\\kai-q\\anaconda3\\lib\\site-packages (from pandavro<2.0.0,>=1.6.0->basedosdados) (1.5.1)\n",
      "Requirement already satisfied: googleapis-common-protos<2.0dev,>=1.56.2 in c:\\users\\kai-q\\anaconda3\\lib\\site-packages (from google-api-core[grpc]<3.0.0dev,>=1.29.0->google-cloud-bigquery==2.30.1->basedosdados) (1.57.0)\n",
      "Requirement already satisfied: grpcio-status<2.0dev,>=1.33.2 in c:\\users\\kai-q\\anaconda3\\lib\\site-packages (from google-api-core[grpc]<3.0.0dev,>=1.29.0->google-cloud-bigquery==2.30.1->basedosdados) (1.48.2)\n",
      "Requirement already satisfied: pyasn1-modules>=0.2.1 in c:\\users\\kai-q\\anaconda3\\lib\\site-packages (from google-auth<3.0dev,>=1.25.0->google-cloud-storage==1.42.3->basedosdados) (0.2.8)\n",
      "Requirement already satisfied: rsa<5,>=3.1.4 in c:\\users\\kai-q\\anaconda3\\lib\\site-packages (from google-auth<3.0dev,>=1.25.0->google-cloud-storage==1.42.3->basedosdados) (4.9)\n",
      "Requirement already satisfied: cachetools<6.0,>=2.0.0 in c:\\users\\kai-q\\anaconda3\\lib\\site-packages (from google-auth<3.0dev,>=1.25.0->google-cloud-storage==1.42.3->basedosdados) (5.2.0)\n",
      "Requirement already satisfied: requests-oauthlib>=0.7.0 in c:\\users\\kai-q\\anaconda3\\lib\\site-packages (from google-auth-oauthlib>=0.0.1->pandas-gbq<0.18.0,>=0.17.4->basedosdados) (1.3.1)\n",
      "Requirement already satisfied: google-crc32c<2.0dev,>=1.0 in c:\\users\\kai-q\\anaconda3\\lib\\site-packages (from google-resumable-media<3.0dev,>=0.6.0->google-cloud-bigquery==2.30.1->basedosdados) (1.5.0)\n",
      "Requirement already satisfied: pickleshare in c:\\users\\kai-q\\anaconda3\\lib\\site-packages (from ipython>=5.0.0->ipykernel==5.3.4->basedosdados) (0.7.5)\n",
      "Requirement already satisfied: matplotlib-inline in c:\\users\\kai-q\\anaconda3\\lib\\site-packages (from ipython>=5.0.0->ipykernel==5.3.4->basedosdados) (0.1.6)\n",
      "Requirement already satisfied: jedi>=0.16 in c:\\users\\kai-q\\anaconda3\\lib\\site-packages (from ipython>=5.0.0->ipykernel==5.3.4->basedosdados) (0.18.1)\n",
      "Requirement already satisfied: prompt-toolkit!=3.0.0,!=3.0.1,<3.1.0,>=2.0.0 in c:\\users\\kai-q\\anaconda3\\lib\\site-packages (from ipython>=5.0.0->ipykernel==5.3.4->basedosdados) (3.0.20)\n",
      "Requirement already satisfied: backcall in c:\\users\\kai-q\\anaconda3\\lib\\site-packages (from ipython>=5.0.0->ipykernel==5.3.4->basedosdados) (0.2.0)\n",
      "Requirement already satisfied: decorator in c:\\users\\kai-q\\anaconda3\\lib\\site-packages (from ipython>=5.0.0->ipykernel==5.3.4->basedosdados) (5.1.1)\n",
      "Requirement already satisfied: pytkdocs>=0.14 in c:\\users\\kai-q\\anaconda3\\lib\\site-packages (from mkdocstrings-python-legacy>=0.2->mkdocstrings<0.19.0,>=0.18.1->basedosdados) (0.16.1)\n",
      "Requirement already satisfied: pyparsing!=3.0.5,>=2.0.2 in c:\\users\\kai-q\\anaconda3\\lib\\site-packages (from packaging>=14.3->google-cloud-bigquery==2.30.1->basedosdados) (3.0.9)\n",
      "Requirement already satisfied: text-unidecode>=1.3 in c:\\users\\kai-q\\anaconda3\\lib\\site-packages (from python-slugify>=1.0->ckanapi==4.6->basedosdados) (1.3)\n",
      "Requirement already satisfied: certifi>=2017.4.17 in c:\\users\\kai-q\\anaconda3\\lib\\site-packages (from requests->ckanapi==4.6->basedosdados) (2022.9.14)\n",
      "Requirement already satisfied: urllib3<1.27,>=1.21.1 in c:\\users\\kai-q\\anaconda3\\lib\\site-packages (from requests->ckanapi==4.6->basedosdados) (1.26.11)\n",
      "Requirement already satisfied: charset-normalizer<3,>=2 in c:\\users\\kai-q\\anaconda3\\lib\\site-packages (from requests->ckanapi==4.6->basedosdados) (2.0.4)\n",
      "Requirement already satisfied: idna<4,>=2.5 in c:\\users\\kai-q\\anaconda3\\lib\\site-packages (from requests->ckanapi==4.6->basedosdados) (2.10)\n",
      "Requirement already satisfied: jupyterlab-widgets>=1.0.0 in c:\\users\\kai-q\\anaconda3\\lib\\site-packages (from ipywidgets->jupyter<2.0.0,>=1.0.0->basedosdados) (1.0.0)\n",
      "Requirement already satisfied: nbformat>=4.2.0 in c:\\users\\kai-q\\anaconda3\\lib\\site-packages (from ipywidgets->jupyter<2.0.0,>=1.0.0->basedosdados) (5.5.0)\n",
      "Requirement already satisfied: widgetsnbextension~=3.5.0 in c:\\users\\kai-q\\anaconda3\\lib\\site-packages (from ipywidgets->jupyter<2.0.0,>=1.0.0->basedosdados) (3.5.2)\n",
      "Requirement already satisfied: ipython-genutils~=0.2.0 in c:\\users\\kai-q\\anaconda3\\lib\\site-packages (from ipywidgets->jupyter<2.0.0,>=1.0.0->basedosdados) (0.2.0)\n",
      "Requirement already satisfied: nest-asyncio>=1.5.4 in c:\\users\\kai-q\\anaconda3\\lib\\site-packages (from jupyter-client->ipykernel==5.3.4->basedosdados) (1.5.5)\n",
      "Requirement already satisfied: entrypoints in c:\\users\\kai-q\\anaconda3\\lib\\site-packages (from jupyter-client->ipykernel==5.3.4->basedosdados) (0.4)\n",
      "Requirement already satisfied: pyzmq>=23.0 in c:\\users\\kai-q\\anaconda3\\lib\\site-packages (from jupyter-client->ipykernel==5.3.4->basedosdados) (23.2.0)\n",
      "Requirement already satisfied: jupyter-core>=4.9.2 in c:\\users\\kai-q\\anaconda3\\lib\\site-packages (from jupyter-client->ipykernel==5.3.4->basedosdados) (4.11.1)\n",
      "Requirement already satisfied: testpath in c:\\users\\kai-q\\anaconda3\\lib\\site-packages (from nbconvert->jupyter<2.0.0,>=1.0.0->basedosdados) (0.6.0)\n",
      "Requirement already satisfied: pandocfilters>=1.4.1 in c:\\users\\kai-q\\anaconda3\\lib\\site-packages (from nbconvert->jupyter<2.0.0,>=1.0.0->basedosdados) (1.5.0)\n",
      "Requirement already satisfied: beautifulsoup4 in c:\\users\\kai-q\\anaconda3\\lib\\site-packages (from nbconvert->jupyter<2.0.0,>=1.0.0->basedosdados) (4.11.1)\n",
      "Requirement already satisfied: mistune<2,>=0.8.1 in c:\\users\\kai-q\\anaconda3\\lib\\site-packages (from nbconvert->jupyter<2.0.0,>=1.0.0->basedosdados) (0.8.4)\n",
      "Requirement already satisfied: bleach in c:\\users\\kai-q\\anaconda3\\lib\\site-packages (from nbconvert->jupyter<2.0.0,>=1.0.0->basedosdados) (4.1.0)\n",
      "Requirement already satisfied: nbclient<0.6.0,>=0.5.0 in c:\\users\\kai-q\\anaconda3\\lib\\site-packages (from nbconvert->jupyter<2.0.0,>=1.0.0->basedosdados) (0.5.13)\n",
      "Requirement already satisfied: jupyterlab-pygments in c:\\users\\kai-q\\anaconda3\\lib\\site-packages (from nbconvert->jupyter<2.0.0,>=1.0.0->basedosdados) (0.1.2)\n",
      "Requirement already satisfied: defusedxml in c:\\users\\kai-q\\anaconda3\\lib\\site-packages (from nbconvert->jupyter<2.0.0,>=1.0.0->basedosdados) (0.7.1)\n",
      "Requirement already satisfied: argon2-cffi in c:\\users\\kai-q\\anaconda3\\lib\\site-packages (from notebook->jupyter<2.0.0,>=1.0.0->basedosdados) (21.3.0)\n",
      "Requirement already satisfied: terminado>=0.8.3 in c:\\users\\kai-q\\anaconda3\\lib\\site-packages (from notebook->jupyter<2.0.0,>=1.0.0->basedosdados) (0.13.1)\n",
      "Requirement already satisfied: Send2Trash>=1.8.0 in c:\\users\\kai-q\\anaconda3\\lib\\site-packages (from notebook->jupyter<2.0.0,>=1.0.0->basedosdados) (1.8.0)\n",
      "Requirement already satisfied: prometheus-client in c:\\users\\kai-q\\anaconda3\\lib\\site-packages (from notebook->jupyter<2.0.0,>=1.0.0->basedosdados) (0.14.1)\n",
      "Requirement already satisfied: qtpy in c:\\users\\kai-q\\anaconda3\\lib\\site-packages (from qtconsole->jupyter<2.0.0,>=1.0.0->basedosdados) (2.2.0)\n",
      "Requirement already satisfied: parso<0.9.0,>=0.8.0 in c:\\users\\kai-q\\anaconda3\\lib\\site-packages (from jedi>=0.16->ipython>=5.0.0->ipykernel==5.3.4->basedosdados) (0.8.3)\n",
      "Requirement already satisfied: pywin32>=1.0 in c:\\users\\kai-q\\anaconda3\\lib\\site-packages (from jupyter-core>=4.9.2->jupyter-client->ipykernel==5.3.4->basedosdados) (302)\n",
      "Requirement already satisfied: jsonschema>=2.6 in c:\\users\\kai-q\\anaconda3\\lib\\site-packages (from nbformat>=4.2.0->ipywidgets->jupyter<2.0.0,>=1.0.0->basedosdados) (4.16.0)\n",
      "Requirement already satisfied: fastjsonschema in c:\\users\\kai-q\\anaconda3\\lib\\site-packages (from nbformat>=4.2.0->ipywidgets->jupyter<2.0.0,>=1.0.0->basedosdados) (2.16.2)\n",
      "Requirement already satisfied: wcwidth in c:\\users\\kai-q\\anaconda3\\lib\\site-packages (from prompt-toolkit!=3.0.0,!=3.0.1,<3.1.0,>=2.0.0->ipython>=5.0.0->ipykernel==5.3.4->basedosdados) (0.2.5)\n",
      "Requirement already satisfied: pyasn1<0.5.0,>=0.4.6 in c:\\users\\kai-q\\anaconda3\\lib\\site-packages (from pyasn1-modules>=0.2.1->google-auth<3.0dev,>=1.25.0->google-cloud-storage==1.42.3->basedosdados) (0.4.8)\n",
      "Requirement already satisfied: oauthlib>=3.0.0 in c:\\users\\kai-q\\anaconda3\\lib\\site-packages (from requests-oauthlib>=0.7.0->google-auth-oauthlib>=0.0.1->pandas-gbq<0.18.0,>=0.17.4->basedosdados) (3.2.2)\n",
      "Requirement already satisfied: pywinpty>=1.1.0 in c:\\users\\kai-q\\anaconda3\\lib\\site-packages (from terminado>=0.8.3->notebook->jupyter<2.0.0,>=1.0.0->basedosdados) (2.0.2)\n",
      "Requirement already satisfied: argon2-cffi-bindings in c:\\users\\kai-q\\anaconda3\\lib\\site-packages (from argon2-cffi->notebook->jupyter<2.0.0,>=1.0.0->basedosdados) (21.2.0)\n",
      "Requirement already satisfied: soupsieve>1.2 in c:\\users\\kai-q\\anaconda3\\lib\\site-packages (from beautifulsoup4->nbconvert->jupyter<2.0.0,>=1.0.0->basedosdados) (2.3.1)\n",
      "Requirement already satisfied: webencodings in c:\\users\\kai-q\\anaconda3\\lib\\site-packages (from bleach->nbconvert->jupyter<2.0.0,>=1.0.0->basedosdados) (0.5.1)\n",
      "Requirement already satisfied: pyrsistent!=0.17.0,!=0.17.1,!=0.17.2,>=0.14.0 in c:\\users\\kai-q\\anaconda3\\lib\\site-packages (from jsonschema>=2.6->nbformat>=4.2.0->ipywidgets->jupyter<2.0.0,>=1.0.0->basedosdados) (0.18.0)\n",
      "Requirement already satisfied: cffi>=1.0.1 in c:\\users\\kai-q\\anaconda3\\lib\\site-packages (from argon2-cffi-bindings->argon2-cffi->notebook->jupyter<2.0.0,>=1.0.0->basedosdados) (1.15.1)\n",
      "Requirement already satisfied: pycparser in c:\\users\\kai-q\\anaconda3\\lib\\site-packages (from cffi>=1.0.1->argon2-cffi-bindings->argon2-cffi->notebook->jupyter<2.0.0,>=1.0.0->basedosdados) (2.21)\n"
     ]
    }
   ],
   "source": [
    "!pip install basedosdados\n",
    "#Pacote do base dos dados"
   ]
  },
  {
   "cell_type": "code",
   "execution_count": 23,
   "id": "23294be3",
   "metadata": {},
   "outputs": [],
   "source": [
    "import basedosdados as bd\n",
    "import pandas as pd"
   ]
  },
  {
   "cell_type": "code",
   "execution_count": 8,
   "id": "48461a3c",
   "metadata": {},
   "outputs": [
    {
     "name": "stderr",
     "output_type": "stream",
     "text": [
      "Downloading: 100%|██████████| 158418/158418 [00:27<00:00, 5700.13rows/s]\n"
     ]
    }
   ],
   "source": [
    "# Para carregar o dado direto no pandas\n",
    "df = bd.read_table(dataset_id='br_poder360_pesquisas',\n",
    "table_id='microdados',\n",
    "billing_project_id=\"lucky-outpost-369902\")"
   ]
  },
  {
   "cell_type": "code",
   "execution_count": 9,
   "id": "13505bca",
   "metadata": {},
   "outputs": [
    {
     "data": {
      "text/html": [
       "<div>\n",
       "<style scoped>\n",
       "    .dataframe tbody tr th:only-of-type {\n",
       "        vertical-align: middle;\n",
       "    }\n",
       "\n",
       "    .dataframe tbody tr th {\n",
       "        vertical-align: top;\n",
       "    }\n",
       "\n",
       "    .dataframe thead th {\n",
       "        text-align: right;\n",
       "    }\n",
       "</style>\n",
       "<table border=\"1\" class=\"dataframe\">\n",
       "  <thead>\n",
       "    <tr style=\"text-align: right;\">\n",
       "      <th></th>\n",
       "      <th>id_pesquisa</th>\n",
       "      <th>ano</th>\n",
       "      <th>sigla_uf</th>\n",
       "      <th>nome_municipio</th>\n",
       "      <th>cargo</th>\n",
       "      <th>data</th>\n",
       "      <th>data_referencia</th>\n",
       "      <th>instituto</th>\n",
       "      <th>contratante</th>\n",
       "      <th>orgao_registro</th>\n",
       "      <th>...</th>\n",
       "      <th>tipo</th>\n",
       "      <th>turno</th>\n",
       "      <th>tipo_voto</th>\n",
       "      <th>id_cenario</th>\n",
       "      <th>descricao_cenario</th>\n",
       "      <th>id_candidato_poder360</th>\n",
       "      <th>nome_candidato</th>\n",
       "      <th>sigla_partido</th>\n",
       "      <th>condicao</th>\n",
       "      <th>percentual</th>\n",
       "    </tr>\n",
       "  </thead>\n",
       "  <tbody>\n",
       "    <tr>\n",
       "      <th>0</th>\n",
       "      <td>8023</td>\n",
       "      <td>2006</td>\n",
       "      <td>None</td>\n",
       "      <td>None</td>\n",
       "      <td>presidente</td>\n",
       "      <td>2006-09-19</td>\n",
       "      <td>18-19.set.06</td>\n",
       "      <td>Datafolha</td>\n",
       "      <td>None</td>\n",
       "      <td>None</td>\n",
       "      <td>...</td>\n",
       "      <td>estimulada</td>\n",
       "      <td>1</td>\n",
       "      <td>votos totais</td>\n",
       "      <td>20265</td>\n",
       "      <td>cenário único - estimulado</td>\n",
       "      <td>97</td>\n",
       "      <td>Ana Maria Rangel</td>\n",
       "      <td>PRP</td>\n",
       "      <td>0</td>\n",
       "      <td>0.0</td>\n",
       "    </tr>\n",
       "    <tr>\n",
       "      <th>1</th>\n",
       "      <td>8023</td>\n",
       "      <td>2006</td>\n",
       "      <td>None</td>\n",
       "      <td>None</td>\n",
       "      <td>presidente</td>\n",
       "      <td>2006-09-19</td>\n",
       "      <td>18-19.set.06</td>\n",
       "      <td>Datafolha</td>\n",
       "      <td>None</td>\n",
       "      <td>None</td>\n",
       "      <td>...</td>\n",
       "      <td>estimulada</td>\n",
       "      <td>1</td>\n",
       "      <td>votos totais</td>\n",
       "      <td>20265</td>\n",
       "      <td>cenário único - estimulado</td>\n",
       "      <td>938</td>\n",
       "      <td>Luciano Bivar</td>\n",
       "      <td>PSL</td>\n",
       "      <td>0</td>\n",
       "      <td>0.0</td>\n",
       "    </tr>\n",
       "    <tr>\n",
       "      <th>2</th>\n",
       "      <td>8023</td>\n",
       "      <td>2006</td>\n",
       "      <td>None</td>\n",
       "      <td>None</td>\n",
       "      <td>presidente</td>\n",
       "      <td>2006-09-19</td>\n",
       "      <td>18-19.set.06</td>\n",
       "      <td>Datafolha</td>\n",
       "      <td>None</td>\n",
       "      <td>None</td>\n",
       "      <td>...</td>\n",
       "      <td>estimulada</td>\n",
       "      <td>1</td>\n",
       "      <td>votos totais</td>\n",
       "      <td>20265</td>\n",
       "      <td>cenário único - estimulado</td>\n",
       "      <td>575</td>\n",
       "      <td>Alckmin</td>\n",
       "      <td>PSDB</td>\n",
       "      <td>0</td>\n",
       "      <td>29.0</td>\n",
       "    </tr>\n",
       "    <tr>\n",
       "      <th>3</th>\n",
       "      <td>8023</td>\n",
       "      <td>2006</td>\n",
       "      <td>None</td>\n",
       "      <td>None</td>\n",
       "      <td>presidente</td>\n",
       "      <td>2006-09-19</td>\n",
       "      <td>18-19.set.06</td>\n",
       "      <td>Datafolha</td>\n",
       "      <td>None</td>\n",
       "      <td>None</td>\n",
       "      <td>...</td>\n",
       "      <td>estimulada</td>\n",
       "      <td>1</td>\n",
       "      <td>votos totais</td>\n",
       "      <td>20265</td>\n",
       "      <td>cenário único - estimulado</td>\n",
       "      <td>1508</td>\n",
       "      <td>Rui Costa Pimenta</td>\n",
       "      <td>PCO</td>\n",
       "      <td>0</td>\n",
       "      <td>0.0</td>\n",
       "    </tr>\n",
       "    <tr>\n",
       "      <th>4</th>\n",
       "      <td>8023</td>\n",
       "      <td>2006</td>\n",
       "      <td>None</td>\n",
       "      <td>None</td>\n",
       "      <td>presidente</td>\n",
       "      <td>2006-09-19</td>\n",
       "      <td>18-19.set.06</td>\n",
       "      <td>Datafolha</td>\n",
       "      <td>None</td>\n",
       "      <td>None</td>\n",
       "      <td>...</td>\n",
       "      <td>estimulada</td>\n",
       "      <td>1</td>\n",
       "      <td>votos totais</td>\n",
       "      <td>20265</td>\n",
       "      <td>cenário único - estimulado</td>\n",
       "      <td>327</td>\n",
       "      <td>Cristovam Buarque</td>\n",
       "      <td>PDT</td>\n",
       "      <td>0</td>\n",
       "      <td>2.0</td>\n",
       "    </tr>\n",
       "  </tbody>\n",
       "</table>\n",
       "<p>5 rows × 24 columns</p>\n",
       "</div>"
      ],
      "text/plain": [
       "  id_pesquisa   ano sigla_uf nome_municipio       cargo        data  \\\n",
       "0        8023  2006     None           None  presidente  2006-09-19   \n",
       "1        8023  2006     None           None  presidente  2006-09-19   \n",
       "2        8023  2006     None           None  presidente  2006-09-19   \n",
       "3        8023  2006     None           None  presidente  2006-09-19   \n",
       "4        8023  2006     None           None  presidente  2006-09-19   \n",
       "\n",
       "  data_referencia  instituto contratante orgao_registro  ...        tipo  \\\n",
       "0    18-19.set.06  Datafolha        None           None  ...  estimulada   \n",
       "1    18-19.set.06  Datafolha        None           None  ...  estimulada   \n",
       "2    18-19.set.06  Datafolha        None           None  ...  estimulada   \n",
       "3    18-19.set.06  Datafolha        None           None  ...  estimulada   \n",
       "4    18-19.set.06  Datafolha        None           None  ...  estimulada   \n",
       "\n",
       "   turno     tipo_voto  id_cenario           descricao_cenario  \\\n",
       "0      1  votos totais       20265  cenário único - estimulado   \n",
       "1      1  votos totais       20265  cenário único - estimulado   \n",
       "2      1  votos totais       20265  cenário único - estimulado   \n",
       "3      1  votos totais       20265  cenário único - estimulado   \n",
       "4      1  votos totais       20265  cenário único - estimulado   \n",
       "\n",
       "   id_candidato_poder360     nome_candidato sigla_partido condicao percentual  \n",
       "0                     97   Ana Maria Rangel           PRP        0        0.0  \n",
       "1                    938      Luciano Bivar           PSL        0        0.0  \n",
       "2                    575            Alckmin          PSDB        0       29.0  \n",
       "3                   1508  Rui Costa Pimenta           PCO        0        0.0  \n",
       "4                    327  Cristovam Buarque           PDT        0        2.0  \n",
       "\n",
       "[5 rows x 24 columns]"
      ]
     },
     "execution_count": 9,
     "metadata": {},
     "output_type": "execute_result"
    }
   ],
   "source": [
    "df.head()"
   ]
  },
  {
   "cell_type": "code",
   "execution_count": 42,
   "id": "9e4d631b",
   "metadata": {},
   "outputs": [],
   "source": [
    "#Filtrando por instituto DATAFOLHA\n",
    "pesquisas_2022 = df[(df.instituto == 'Datafolha') \n",
    "                    & (df.ano == 2022) \n",
    "                    & (df.cargo == 'presidente') \n",
    "                    & (df.sigla_uf.isnull()) \n",
    "                    & (df.tipo == 'estimulada') \n",
    "                    & ((df.nome_candidato == 'Lula') | (df.nome_candidato == 'Bolsonaro'))\n",
    "                    & (df.descricao_cenario.str.contains('cenário 1')==True) ].sort_values(by='data')"
   ]
  },
  {
   "cell_type": "code",
   "execution_count": 36,
   "id": "9e27e6be",
   "metadata": {},
   "outputs": [],
   "source": [
    "pd.options.plotting.backend = \"plotly\""
   ]
  },
  {
   "cell_type": "code",
   "execution_count": 46,
   "id": "395c9c9a",
   "metadata": {},
   "outputs": [
    {
     "data": {
      "application/vnd.plotly.v1+json": {
       "config": {
        "plotlyServerURL": "https://plot.ly"
       },
       "data": [
        {
         "hovertemplate": "nome_candidato=Bolsonaro<br>turno=1<br>data=%{x}<br>percentual=%{y}<extra></extra>",
         "legendgroup": "Bolsonaro",
         "line": {
          "color": "#636efa",
          "dash": "solid"
         },
         "marker": {
          "symbol": "circle"
         },
         "mode": "lines",
         "name": "Bolsonaro",
         "orientation": "v",
         "showlegend": true,
         "type": "scatter",
         "x": [
          "2021-05-12",
          "2021-07-08",
          "2021-09-15",
          "2021-12-16",
          "2022-03-23",
          "2022-05-26",
          "2022-06-23",
          "2022-07-28",
          "2022-08-18",
          "2022-09-01",
          "2022-09-09",
          "2022-09-15",
          "2022-09-22",
          "2022-09-29",
          "2022-10-01"
         ],
         "xaxis": "x2",
         "y": [
          23,
          25,
          26,
          22,
          26,
          27,
          28,
          29,
          32,
          32,
          34,
          33,
          33,
          34,
          34
         ],
         "yaxis": "y2"
        },
        {
         "hovertemplate": "nome_candidato=Bolsonaro<br>turno=2<br>data=%{x}<br>percentual=%{y}<extra></extra>",
         "legendgroup": "Bolsonaro",
         "line": {
          "color": "#636efa",
          "dash": "solid"
         },
         "marker": {
          "symbol": "circle"
         },
         "mode": "lines",
         "name": "Bolsonaro",
         "orientation": "v",
         "showlegend": false,
         "type": "scatter",
         "x": [
          "2021-05-12",
          "2021-07-08",
          "2021-09-15",
          "2021-12-16",
          "2022-03-23",
          "2022-05-26",
          "2022-06-23",
          "2022-07-28",
          "2022-08-18",
          "2022-09-01",
          "2022-09-09",
          "2022-09-15",
          "2022-09-22",
          "2022-09-29",
          "2022-10-01",
          "2022-10-07",
          "2022-10-14",
          "2022-10-19",
          "2022-10-27",
          "2022-10-29"
         ],
         "xaxis": "x",
         "y": [
          32,
          31,
          31,
          30,
          34,
          33,
          34,
          35,
          37,
          37,
          39,
          38,
          38,
          39,
          38,
          44,
          44,
          45,
          44,
          45
         ],
         "yaxis": "y"
        },
        {
         "hovertemplate": "nome_candidato=Lula<br>turno=1<br>data=%{x}<br>percentual=%{y}<extra></extra>",
         "legendgroup": "Lula",
         "line": {
          "color": "#EF553B",
          "dash": "solid"
         },
         "marker": {
          "symbol": "circle"
         },
         "mode": "lines",
         "name": "Lula",
         "orientation": "v",
         "showlegend": true,
         "type": "scatter",
         "x": [
          "2021-05-12",
          "2021-07-08",
          "2021-09-15",
          "2021-12-16",
          "2022-03-23",
          "2022-05-26",
          "2022-06-23",
          "2022-07-28",
          "2022-08-18",
          "2022-09-01",
          "2022-09-09",
          "2022-09-15",
          "2022-09-22",
          "2022-09-29",
          "2022-10-01"
         ],
         "xaxis": "x2",
         "y": [
          41,
          46,
          44,
          48,
          43,
          48,
          47,
          47,
          47,
          45,
          45,
          45,
          47,
          48,
          48
         ],
         "yaxis": "y2"
        },
        {
         "hovertemplate": "nome_candidato=Lula<br>turno=2<br>data=%{x}<br>percentual=%{y}<extra></extra>",
         "legendgroup": "Lula",
         "line": {
          "color": "#EF553B",
          "dash": "solid"
         },
         "marker": {
          "symbol": "circle"
         },
         "mode": "lines",
         "name": "Lula",
         "orientation": "v",
         "showlegend": false,
         "type": "scatter",
         "x": [
          "2021-05-12",
          "2021-07-08",
          "2021-09-15",
          "2021-12-16",
          "2022-03-23",
          "2022-05-26",
          "2022-06-23",
          "2022-07-28",
          "2022-08-18",
          "2022-09-01",
          "2022-09-09",
          "2022-09-15",
          "2022-09-22",
          "2022-09-29",
          "2022-10-01",
          "2022-10-07",
          "2022-10-14",
          "2022-10-19",
          "2022-10-27",
          "2022-10-29"
         ],
         "xaxis": "x",
         "y": [
          55,
          58,
          56,
          59,
          55,
          58,
          57,
          55,
          54,
          54,
          53,
          54,
          54,
          54,
          54,
          49,
          49,
          49,
          49,
          49
         ],
         "yaxis": "y"
        }
       ],
       "layout": {
        "annotations": [
         {
          "font": {},
          "showarrow": false,
          "text": "turno=2",
          "textangle": 90,
          "x": 0.98,
          "xanchor": "left",
          "xref": "paper",
          "y": 0.2425,
          "yanchor": "middle",
          "yref": "paper"
         },
         {
          "font": {},
          "showarrow": false,
          "text": "turno=1",
          "textangle": 90,
          "x": 0.98,
          "xanchor": "left",
          "xref": "paper",
          "y": 0.7575000000000001,
          "yanchor": "middle",
          "yref": "paper"
         }
        ],
        "legend": {
         "title": {
          "text": "nome_candidato"
         },
         "tracegroupgap": 0
        },
        "margin": {
         "t": 60
        },
        "template": {
         "data": {
          "bar": [
           {
            "error_x": {
             "color": "#2a3f5f"
            },
            "error_y": {
             "color": "#2a3f5f"
            },
            "marker": {
             "line": {
              "color": "#E5ECF6",
              "width": 0.5
             },
             "pattern": {
              "fillmode": "overlay",
              "size": 10,
              "solidity": 0.2
             }
            },
            "type": "bar"
           }
          ],
          "barpolar": [
           {
            "marker": {
             "line": {
              "color": "#E5ECF6",
              "width": 0.5
             },
             "pattern": {
              "fillmode": "overlay",
              "size": 10,
              "solidity": 0.2
             }
            },
            "type": "barpolar"
           }
          ],
          "carpet": [
           {
            "aaxis": {
             "endlinecolor": "#2a3f5f",
             "gridcolor": "white",
             "linecolor": "white",
             "minorgridcolor": "white",
             "startlinecolor": "#2a3f5f"
            },
            "baxis": {
             "endlinecolor": "#2a3f5f",
             "gridcolor": "white",
             "linecolor": "white",
             "minorgridcolor": "white",
             "startlinecolor": "#2a3f5f"
            },
            "type": "carpet"
           }
          ],
          "choropleth": [
           {
            "colorbar": {
             "outlinewidth": 0,
             "ticks": ""
            },
            "type": "choropleth"
           }
          ],
          "contour": [
           {
            "colorbar": {
             "outlinewidth": 0,
             "ticks": ""
            },
            "colorscale": [
             [
              0,
              "#0d0887"
             ],
             [
              0.1111111111111111,
              "#46039f"
             ],
             [
              0.2222222222222222,
              "#7201a8"
             ],
             [
              0.3333333333333333,
              "#9c179e"
             ],
             [
              0.4444444444444444,
              "#bd3786"
             ],
             [
              0.5555555555555556,
              "#d8576b"
             ],
             [
              0.6666666666666666,
              "#ed7953"
             ],
             [
              0.7777777777777778,
              "#fb9f3a"
             ],
             [
              0.8888888888888888,
              "#fdca26"
             ],
             [
              1,
              "#f0f921"
             ]
            ],
            "type": "contour"
           }
          ],
          "contourcarpet": [
           {
            "colorbar": {
             "outlinewidth": 0,
             "ticks": ""
            },
            "type": "contourcarpet"
           }
          ],
          "heatmap": [
           {
            "colorbar": {
             "outlinewidth": 0,
             "ticks": ""
            },
            "colorscale": [
             [
              0,
              "#0d0887"
             ],
             [
              0.1111111111111111,
              "#46039f"
             ],
             [
              0.2222222222222222,
              "#7201a8"
             ],
             [
              0.3333333333333333,
              "#9c179e"
             ],
             [
              0.4444444444444444,
              "#bd3786"
             ],
             [
              0.5555555555555556,
              "#d8576b"
             ],
             [
              0.6666666666666666,
              "#ed7953"
             ],
             [
              0.7777777777777778,
              "#fb9f3a"
             ],
             [
              0.8888888888888888,
              "#fdca26"
             ],
             [
              1,
              "#f0f921"
             ]
            ],
            "type": "heatmap"
           }
          ],
          "heatmapgl": [
           {
            "colorbar": {
             "outlinewidth": 0,
             "ticks": ""
            },
            "colorscale": [
             [
              0,
              "#0d0887"
             ],
             [
              0.1111111111111111,
              "#46039f"
             ],
             [
              0.2222222222222222,
              "#7201a8"
             ],
             [
              0.3333333333333333,
              "#9c179e"
             ],
             [
              0.4444444444444444,
              "#bd3786"
             ],
             [
              0.5555555555555556,
              "#d8576b"
             ],
             [
              0.6666666666666666,
              "#ed7953"
             ],
             [
              0.7777777777777778,
              "#fb9f3a"
             ],
             [
              0.8888888888888888,
              "#fdca26"
             ],
             [
              1,
              "#f0f921"
             ]
            ],
            "type": "heatmapgl"
           }
          ],
          "histogram": [
           {
            "marker": {
             "pattern": {
              "fillmode": "overlay",
              "size": 10,
              "solidity": 0.2
             }
            },
            "type": "histogram"
           }
          ],
          "histogram2d": [
           {
            "colorbar": {
             "outlinewidth": 0,
             "ticks": ""
            },
            "colorscale": [
             [
              0,
              "#0d0887"
             ],
             [
              0.1111111111111111,
              "#46039f"
             ],
             [
              0.2222222222222222,
              "#7201a8"
             ],
             [
              0.3333333333333333,
              "#9c179e"
             ],
             [
              0.4444444444444444,
              "#bd3786"
             ],
             [
              0.5555555555555556,
              "#d8576b"
             ],
             [
              0.6666666666666666,
              "#ed7953"
             ],
             [
              0.7777777777777778,
              "#fb9f3a"
             ],
             [
              0.8888888888888888,
              "#fdca26"
             ],
             [
              1,
              "#f0f921"
             ]
            ],
            "type": "histogram2d"
           }
          ],
          "histogram2dcontour": [
           {
            "colorbar": {
             "outlinewidth": 0,
             "ticks": ""
            },
            "colorscale": [
             [
              0,
              "#0d0887"
             ],
             [
              0.1111111111111111,
              "#46039f"
             ],
             [
              0.2222222222222222,
              "#7201a8"
             ],
             [
              0.3333333333333333,
              "#9c179e"
             ],
             [
              0.4444444444444444,
              "#bd3786"
             ],
             [
              0.5555555555555556,
              "#d8576b"
             ],
             [
              0.6666666666666666,
              "#ed7953"
             ],
             [
              0.7777777777777778,
              "#fb9f3a"
             ],
             [
              0.8888888888888888,
              "#fdca26"
             ],
             [
              1,
              "#f0f921"
             ]
            ],
            "type": "histogram2dcontour"
           }
          ],
          "mesh3d": [
           {
            "colorbar": {
             "outlinewidth": 0,
             "ticks": ""
            },
            "type": "mesh3d"
           }
          ],
          "parcoords": [
           {
            "line": {
             "colorbar": {
              "outlinewidth": 0,
              "ticks": ""
             }
            },
            "type": "parcoords"
           }
          ],
          "pie": [
           {
            "automargin": true,
            "type": "pie"
           }
          ],
          "scatter": [
           {
            "fillpattern": {
             "fillmode": "overlay",
             "size": 10,
             "solidity": 0.2
            },
            "type": "scatter"
           }
          ],
          "scatter3d": [
           {
            "line": {
             "colorbar": {
              "outlinewidth": 0,
              "ticks": ""
             }
            },
            "marker": {
             "colorbar": {
              "outlinewidth": 0,
              "ticks": ""
             }
            },
            "type": "scatter3d"
           }
          ],
          "scattercarpet": [
           {
            "marker": {
             "colorbar": {
              "outlinewidth": 0,
              "ticks": ""
             }
            },
            "type": "scattercarpet"
           }
          ],
          "scattergeo": [
           {
            "marker": {
             "colorbar": {
              "outlinewidth": 0,
              "ticks": ""
             }
            },
            "type": "scattergeo"
           }
          ],
          "scattergl": [
           {
            "marker": {
             "colorbar": {
              "outlinewidth": 0,
              "ticks": ""
             }
            },
            "type": "scattergl"
           }
          ],
          "scattermapbox": [
           {
            "marker": {
             "colorbar": {
              "outlinewidth": 0,
              "ticks": ""
             }
            },
            "type": "scattermapbox"
           }
          ],
          "scatterpolar": [
           {
            "marker": {
             "colorbar": {
              "outlinewidth": 0,
              "ticks": ""
             }
            },
            "type": "scatterpolar"
           }
          ],
          "scatterpolargl": [
           {
            "marker": {
             "colorbar": {
              "outlinewidth": 0,
              "ticks": ""
             }
            },
            "type": "scatterpolargl"
           }
          ],
          "scatterternary": [
           {
            "marker": {
             "colorbar": {
              "outlinewidth": 0,
              "ticks": ""
             }
            },
            "type": "scatterternary"
           }
          ],
          "surface": [
           {
            "colorbar": {
             "outlinewidth": 0,
             "ticks": ""
            },
            "colorscale": [
             [
              0,
              "#0d0887"
             ],
             [
              0.1111111111111111,
              "#46039f"
             ],
             [
              0.2222222222222222,
              "#7201a8"
             ],
             [
              0.3333333333333333,
              "#9c179e"
             ],
             [
              0.4444444444444444,
              "#bd3786"
             ],
             [
              0.5555555555555556,
              "#d8576b"
             ],
             [
              0.6666666666666666,
              "#ed7953"
             ],
             [
              0.7777777777777778,
              "#fb9f3a"
             ],
             [
              0.8888888888888888,
              "#fdca26"
             ],
             [
              1,
              "#f0f921"
             ]
            ],
            "type": "surface"
           }
          ],
          "table": [
           {
            "cells": {
             "fill": {
              "color": "#EBF0F8"
             },
             "line": {
              "color": "white"
             }
            },
            "header": {
             "fill": {
              "color": "#C8D4E3"
             },
             "line": {
              "color": "white"
             }
            },
            "type": "table"
           }
          ]
         },
         "layout": {
          "annotationdefaults": {
           "arrowcolor": "#2a3f5f",
           "arrowhead": 0,
           "arrowwidth": 1
          },
          "autotypenumbers": "strict",
          "coloraxis": {
           "colorbar": {
            "outlinewidth": 0,
            "ticks": ""
           }
          },
          "colorscale": {
           "diverging": [
            [
             0,
             "#8e0152"
            ],
            [
             0.1,
             "#c51b7d"
            ],
            [
             0.2,
             "#de77ae"
            ],
            [
             0.3,
             "#f1b6da"
            ],
            [
             0.4,
             "#fde0ef"
            ],
            [
             0.5,
             "#f7f7f7"
            ],
            [
             0.6,
             "#e6f5d0"
            ],
            [
             0.7,
             "#b8e186"
            ],
            [
             0.8,
             "#7fbc41"
            ],
            [
             0.9,
             "#4d9221"
            ],
            [
             1,
             "#276419"
            ]
           ],
           "sequential": [
            [
             0,
             "#0d0887"
            ],
            [
             0.1111111111111111,
             "#46039f"
            ],
            [
             0.2222222222222222,
             "#7201a8"
            ],
            [
             0.3333333333333333,
             "#9c179e"
            ],
            [
             0.4444444444444444,
             "#bd3786"
            ],
            [
             0.5555555555555556,
             "#d8576b"
            ],
            [
             0.6666666666666666,
             "#ed7953"
            ],
            [
             0.7777777777777778,
             "#fb9f3a"
            ],
            [
             0.8888888888888888,
             "#fdca26"
            ],
            [
             1,
             "#f0f921"
            ]
           ],
           "sequentialminus": [
            [
             0,
             "#0d0887"
            ],
            [
             0.1111111111111111,
             "#46039f"
            ],
            [
             0.2222222222222222,
             "#7201a8"
            ],
            [
             0.3333333333333333,
             "#9c179e"
            ],
            [
             0.4444444444444444,
             "#bd3786"
            ],
            [
             0.5555555555555556,
             "#d8576b"
            ],
            [
             0.6666666666666666,
             "#ed7953"
            ],
            [
             0.7777777777777778,
             "#fb9f3a"
            ],
            [
             0.8888888888888888,
             "#fdca26"
            ],
            [
             1,
             "#f0f921"
            ]
           ]
          },
          "colorway": [
           "#636efa",
           "#EF553B",
           "#00cc96",
           "#ab63fa",
           "#FFA15A",
           "#19d3f3",
           "#FF6692",
           "#B6E880",
           "#FF97FF",
           "#FECB52"
          ],
          "font": {
           "color": "#2a3f5f"
          },
          "geo": {
           "bgcolor": "white",
           "lakecolor": "white",
           "landcolor": "#E5ECF6",
           "showlakes": true,
           "showland": true,
           "subunitcolor": "white"
          },
          "hoverlabel": {
           "align": "left"
          },
          "hovermode": "closest",
          "mapbox": {
           "style": "light"
          },
          "paper_bgcolor": "white",
          "plot_bgcolor": "#E5ECF6",
          "polar": {
           "angularaxis": {
            "gridcolor": "white",
            "linecolor": "white",
            "ticks": ""
           },
           "bgcolor": "#E5ECF6",
           "radialaxis": {
            "gridcolor": "white",
            "linecolor": "white",
            "ticks": ""
           }
          },
          "scene": {
           "xaxis": {
            "backgroundcolor": "#E5ECF6",
            "gridcolor": "white",
            "gridwidth": 2,
            "linecolor": "white",
            "showbackground": true,
            "ticks": "",
            "zerolinecolor": "white"
           },
           "yaxis": {
            "backgroundcolor": "#E5ECF6",
            "gridcolor": "white",
            "gridwidth": 2,
            "linecolor": "white",
            "showbackground": true,
            "ticks": "",
            "zerolinecolor": "white"
           },
           "zaxis": {
            "backgroundcolor": "#E5ECF6",
            "gridcolor": "white",
            "gridwidth": 2,
            "linecolor": "white",
            "showbackground": true,
            "ticks": "",
            "zerolinecolor": "white"
           }
          },
          "shapedefaults": {
           "line": {
            "color": "#2a3f5f"
           }
          },
          "ternary": {
           "aaxis": {
            "gridcolor": "white",
            "linecolor": "white",
            "ticks": ""
           },
           "baxis": {
            "gridcolor": "white",
            "linecolor": "white",
            "ticks": ""
           },
           "bgcolor": "#E5ECF6",
           "caxis": {
            "gridcolor": "white",
            "linecolor": "white",
            "ticks": ""
           }
          },
          "title": {
           "x": 0.05
          },
          "xaxis": {
           "automargin": true,
           "gridcolor": "white",
           "linecolor": "white",
           "ticks": "",
           "title": {
            "standoff": 15
           },
           "zerolinecolor": "white",
           "zerolinewidth": 2
          },
          "yaxis": {
           "automargin": true,
           "gridcolor": "white",
           "linecolor": "white",
           "ticks": "",
           "title": {
            "standoff": 15
           },
           "zerolinecolor": "white",
           "zerolinewidth": 2
          }
         }
        },
        "xaxis": {
         "anchor": "y",
         "domain": [
          0,
          0.98
         ],
         "title": {
          "text": "data"
         }
        },
        "xaxis2": {
         "anchor": "y2",
         "domain": [
          0,
          0.98
         ],
         "matches": "x",
         "showticklabels": false
        },
        "yaxis": {
         "anchor": "x",
         "domain": [
          0,
          0.485
         ],
         "title": {
          "text": "percentual"
         }
        },
        "yaxis2": {
         "anchor": "x2",
         "domain": [
          0.515,
          1
         ],
         "matches": "y",
         "title": {
          "text": "percentual"
         }
        }
       }
      },
      "text/html": [
       "<div>                            <div id=\"bb50e408-ff23-4f9b-9ce9-f171c649f0a0\" class=\"plotly-graph-div\" style=\"height:525px; width:100%;\"></div>            <script type=\"text/javascript\">                require([\"plotly\"], function(Plotly) {                    window.PLOTLYENV=window.PLOTLYENV || {};                                    if (document.getElementById(\"bb50e408-ff23-4f9b-9ce9-f171c649f0a0\")) {                    Plotly.newPlot(                        \"bb50e408-ff23-4f9b-9ce9-f171c649f0a0\",                        [{\"hovertemplate\":\"nome_candidato=Bolsonaro<br>turno=1<br>data=%{x}<br>percentual=%{y}<extra></extra>\",\"legendgroup\":\"Bolsonaro\",\"line\":{\"color\":\"#636efa\",\"dash\":\"solid\"},\"marker\":{\"symbol\":\"circle\"},\"mode\":\"lines\",\"name\":\"Bolsonaro\",\"orientation\":\"v\",\"showlegend\":true,\"x\":[\"2021-05-12\",\"2021-07-08\",\"2021-09-15\",\"2021-12-16\",\"2022-03-23\",\"2022-05-26\",\"2022-06-23\",\"2022-07-28\",\"2022-08-18\",\"2022-09-01\",\"2022-09-09\",\"2022-09-15\",\"2022-09-22\",\"2022-09-29\",\"2022-10-01\"],\"xaxis\":\"x2\",\"y\":[23.0,25.0,26.0,22.0,26.0,27.0,28.0,29.0,32.0,32.0,34.0,33.0,33.0,34.0,34.0],\"yaxis\":\"y2\",\"type\":\"scatter\"},{\"hovertemplate\":\"nome_candidato=Bolsonaro<br>turno=2<br>data=%{x}<br>percentual=%{y}<extra></extra>\",\"legendgroup\":\"Bolsonaro\",\"line\":{\"color\":\"#636efa\",\"dash\":\"solid\"},\"marker\":{\"symbol\":\"circle\"},\"mode\":\"lines\",\"name\":\"Bolsonaro\",\"orientation\":\"v\",\"showlegend\":false,\"x\":[\"2021-05-12\",\"2021-07-08\",\"2021-09-15\",\"2021-12-16\",\"2022-03-23\",\"2022-05-26\",\"2022-06-23\",\"2022-07-28\",\"2022-08-18\",\"2022-09-01\",\"2022-09-09\",\"2022-09-15\",\"2022-09-22\",\"2022-09-29\",\"2022-10-01\",\"2022-10-07\",\"2022-10-14\",\"2022-10-19\",\"2022-10-27\",\"2022-10-29\"],\"xaxis\":\"x\",\"y\":[32.0,31.0,31.0,30.0,34.0,33.0,34.0,35.0,37.0,37.0,39.0,38.0,38.0,39.0,38.0,44.0,44.0,45.0,44.0,45.0],\"yaxis\":\"y\",\"type\":\"scatter\"},{\"hovertemplate\":\"nome_candidato=Lula<br>turno=1<br>data=%{x}<br>percentual=%{y}<extra></extra>\",\"legendgroup\":\"Lula\",\"line\":{\"color\":\"#EF553B\",\"dash\":\"solid\"},\"marker\":{\"symbol\":\"circle\"},\"mode\":\"lines\",\"name\":\"Lula\",\"orientation\":\"v\",\"showlegend\":true,\"x\":[\"2021-05-12\",\"2021-07-08\",\"2021-09-15\",\"2021-12-16\",\"2022-03-23\",\"2022-05-26\",\"2022-06-23\",\"2022-07-28\",\"2022-08-18\",\"2022-09-01\",\"2022-09-09\",\"2022-09-15\",\"2022-09-22\",\"2022-09-29\",\"2022-10-01\"],\"xaxis\":\"x2\",\"y\":[41.0,46.0,44.0,48.0,43.0,48.0,47.0,47.0,47.0,45.0,45.0,45.0,47.0,48.0,48.0],\"yaxis\":\"y2\",\"type\":\"scatter\"},{\"hovertemplate\":\"nome_candidato=Lula<br>turno=2<br>data=%{x}<br>percentual=%{y}<extra></extra>\",\"legendgroup\":\"Lula\",\"line\":{\"color\":\"#EF553B\",\"dash\":\"solid\"},\"marker\":{\"symbol\":\"circle\"},\"mode\":\"lines\",\"name\":\"Lula\",\"orientation\":\"v\",\"showlegend\":false,\"x\":[\"2021-05-12\",\"2021-07-08\",\"2021-09-15\",\"2021-12-16\",\"2022-03-23\",\"2022-05-26\",\"2022-06-23\",\"2022-07-28\",\"2022-08-18\",\"2022-09-01\",\"2022-09-09\",\"2022-09-15\",\"2022-09-22\",\"2022-09-29\",\"2022-10-01\",\"2022-10-07\",\"2022-10-14\",\"2022-10-19\",\"2022-10-27\",\"2022-10-29\"],\"xaxis\":\"x\",\"y\":[55.0,58.0,56.0,59.0,55.0,58.0,57.0,55.0,54.0,54.0,53.0,54.0,54.0,54.0,54.0,49.0,49.0,49.0,49.0,49.0],\"yaxis\":\"y\",\"type\":\"scatter\"}],                        {\"template\":{\"data\":{\"histogram2dcontour\":[{\"type\":\"histogram2dcontour\",\"colorbar\":{\"outlinewidth\":0,\"ticks\":\"\"},\"colorscale\":[[0.0,\"#0d0887\"],[0.1111111111111111,\"#46039f\"],[0.2222222222222222,\"#7201a8\"],[0.3333333333333333,\"#9c179e\"],[0.4444444444444444,\"#bd3786\"],[0.5555555555555556,\"#d8576b\"],[0.6666666666666666,\"#ed7953\"],[0.7777777777777778,\"#fb9f3a\"],[0.8888888888888888,\"#fdca26\"],[1.0,\"#f0f921\"]]}],\"choropleth\":[{\"type\":\"choropleth\",\"colorbar\":{\"outlinewidth\":0,\"ticks\":\"\"}}],\"histogram2d\":[{\"type\":\"histogram2d\",\"colorbar\":{\"outlinewidth\":0,\"ticks\":\"\"},\"colorscale\":[[0.0,\"#0d0887\"],[0.1111111111111111,\"#46039f\"],[0.2222222222222222,\"#7201a8\"],[0.3333333333333333,\"#9c179e\"],[0.4444444444444444,\"#bd3786\"],[0.5555555555555556,\"#d8576b\"],[0.6666666666666666,\"#ed7953\"],[0.7777777777777778,\"#fb9f3a\"],[0.8888888888888888,\"#fdca26\"],[1.0,\"#f0f921\"]]}],\"heatmap\":[{\"type\":\"heatmap\",\"colorbar\":{\"outlinewidth\":0,\"ticks\":\"\"},\"colorscale\":[[0.0,\"#0d0887\"],[0.1111111111111111,\"#46039f\"],[0.2222222222222222,\"#7201a8\"],[0.3333333333333333,\"#9c179e\"],[0.4444444444444444,\"#bd3786\"],[0.5555555555555556,\"#d8576b\"],[0.6666666666666666,\"#ed7953\"],[0.7777777777777778,\"#fb9f3a\"],[0.8888888888888888,\"#fdca26\"],[1.0,\"#f0f921\"]]}],\"heatmapgl\":[{\"type\":\"heatmapgl\",\"colorbar\":{\"outlinewidth\":0,\"ticks\":\"\"},\"colorscale\":[[0.0,\"#0d0887\"],[0.1111111111111111,\"#46039f\"],[0.2222222222222222,\"#7201a8\"],[0.3333333333333333,\"#9c179e\"],[0.4444444444444444,\"#bd3786\"],[0.5555555555555556,\"#d8576b\"],[0.6666666666666666,\"#ed7953\"],[0.7777777777777778,\"#fb9f3a\"],[0.8888888888888888,\"#fdca26\"],[1.0,\"#f0f921\"]]}],\"contourcarpet\":[{\"type\":\"contourcarpet\",\"colorbar\":{\"outlinewidth\":0,\"ticks\":\"\"}}],\"contour\":[{\"type\":\"contour\",\"colorbar\":{\"outlinewidth\":0,\"ticks\":\"\"},\"colorscale\":[[0.0,\"#0d0887\"],[0.1111111111111111,\"#46039f\"],[0.2222222222222222,\"#7201a8\"],[0.3333333333333333,\"#9c179e\"],[0.4444444444444444,\"#bd3786\"],[0.5555555555555556,\"#d8576b\"],[0.6666666666666666,\"#ed7953\"],[0.7777777777777778,\"#fb9f3a\"],[0.8888888888888888,\"#fdca26\"],[1.0,\"#f0f921\"]]}],\"surface\":[{\"type\":\"surface\",\"colorbar\":{\"outlinewidth\":0,\"ticks\":\"\"},\"colorscale\":[[0.0,\"#0d0887\"],[0.1111111111111111,\"#46039f\"],[0.2222222222222222,\"#7201a8\"],[0.3333333333333333,\"#9c179e\"],[0.4444444444444444,\"#bd3786\"],[0.5555555555555556,\"#d8576b\"],[0.6666666666666666,\"#ed7953\"],[0.7777777777777778,\"#fb9f3a\"],[0.8888888888888888,\"#fdca26\"],[1.0,\"#f0f921\"]]}],\"mesh3d\":[{\"type\":\"mesh3d\",\"colorbar\":{\"outlinewidth\":0,\"ticks\":\"\"}}],\"scatter\":[{\"fillpattern\":{\"fillmode\":\"overlay\",\"size\":10,\"solidity\":0.2},\"type\":\"scatter\"}],\"parcoords\":[{\"type\":\"parcoords\",\"line\":{\"colorbar\":{\"outlinewidth\":0,\"ticks\":\"\"}}}],\"scatterpolargl\":[{\"type\":\"scatterpolargl\",\"marker\":{\"colorbar\":{\"outlinewidth\":0,\"ticks\":\"\"}}}],\"bar\":[{\"error_x\":{\"color\":\"#2a3f5f\"},\"error_y\":{\"color\":\"#2a3f5f\"},\"marker\":{\"line\":{\"color\":\"#E5ECF6\",\"width\":0.5},\"pattern\":{\"fillmode\":\"overlay\",\"size\":10,\"solidity\":0.2}},\"type\":\"bar\"}],\"scattergeo\":[{\"type\":\"scattergeo\",\"marker\":{\"colorbar\":{\"outlinewidth\":0,\"ticks\":\"\"}}}],\"scatterpolar\":[{\"type\":\"scatterpolar\",\"marker\":{\"colorbar\":{\"outlinewidth\":0,\"ticks\":\"\"}}}],\"histogram\":[{\"marker\":{\"pattern\":{\"fillmode\":\"overlay\",\"size\":10,\"solidity\":0.2}},\"type\":\"histogram\"}],\"scattergl\":[{\"type\":\"scattergl\",\"marker\":{\"colorbar\":{\"outlinewidth\":0,\"ticks\":\"\"}}}],\"scatter3d\":[{\"type\":\"scatter3d\",\"line\":{\"colorbar\":{\"outlinewidth\":0,\"ticks\":\"\"}},\"marker\":{\"colorbar\":{\"outlinewidth\":0,\"ticks\":\"\"}}}],\"scattermapbox\":[{\"type\":\"scattermapbox\",\"marker\":{\"colorbar\":{\"outlinewidth\":0,\"ticks\":\"\"}}}],\"scatterternary\":[{\"type\":\"scatterternary\",\"marker\":{\"colorbar\":{\"outlinewidth\":0,\"ticks\":\"\"}}}],\"scattercarpet\":[{\"type\":\"scattercarpet\",\"marker\":{\"colorbar\":{\"outlinewidth\":0,\"ticks\":\"\"}}}],\"carpet\":[{\"aaxis\":{\"endlinecolor\":\"#2a3f5f\",\"gridcolor\":\"white\",\"linecolor\":\"white\",\"minorgridcolor\":\"white\",\"startlinecolor\":\"#2a3f5f\"},\"baxis\":{\"endlinecolor\":\"#2a3f5f\",\"gridcolor\":\"white\",\"linecolor\":\"white\",\"minorgridcolor\":\"white\",\"startlinecolor\":\"#2a3f5f\"},\"type\":\"carpet\"}],\"table\":[{\"cells\":{\"fill\":{\"color\":\"#EBF0F8\"},\"line\":{\"color\":\"white\"}},\"header\":{\"fill\":{\"color\":\"#C8D4E3\"},\"line\":{\"color\":\"white\"}},\"type\":\"table\"}],\"barpolar\":[{\"marker\":{\"line\":{\"color\":\"#E5ECF6\",\"width\":0.5},\"pattern\":{\"fillmode\":\"overlay\",\"size\":10,\"solidity\":0.2}},\"type\":\"barpolar\"}],\"pie\":[{\"automargin\":true,\"type\":\"pie\"}]},\"layout\":{\"autotypenumbers\":\"strict\",\"colorway\":[\"#636efa\",\"#EF553B\",\"#00cc96\",\"#ab63fa\",\"#FFA15A\",\"#19d3f3\",\"#FF6692\",\"#B6E880\",\"#FF97FF\",\"#FECB52\"],\"font\":{\"color\":\"#2a3f5f\"},\"hovermode\":\"closest\",\"hoverlabel\":{\"align\":\"left\"},\"paper_bgcolor\":\"white\",\"plot_bgcolor\":\"#E5ECF6\",\"polar\":{\"bgcolor\":\"#E5ECF6\",\"angularaxis\":{\"gridcolor\":\"white\",\"linecolor\":\"white\",\"ticks\":\"\"},\"radialaxis\":{\"gridcolor\":\"white\",\"linecolor\":\"white\",\"ticks\":\"\"}},\"ternary\":{\"bgcolor\":\"#E5ECF6\",\"aaxis\":{\"gridcolor\":\"white\",\"linecolor\":\"white\",\"ticks\":\"\"},\"baxis\":{\"gridcolor\":\"white\",\"linecolor\":\"white\",\"ticks\":\"\"},\"caxis\":{\"gridcolor\":\"white\",\"linecolor\":\"white\",\"ticks\":\"\"}},\"coloraxis\":{\"colorbar\":{\"outlinewidth\":0,\"ticks\":\"\"}},\"colorscale\":{\"sequential\":[[0.0,\"#0d0887\"],[0.1111111111111111,\"#46039f\"],[0.2222222222222222,\"#7201a8\"],[0.3333333333333333,\"#9c179e\"],[0.4444444444444444,\"#bd3786\"],[0.5555555555555556,\"#d8576b\"],[0.6666666666666666,\"#ed7953\"],[0.7777777777777778,\"#fb9f3a\"],[0.8888888888888888,\"#fdca26\"],[1.0,\"#f0f921\"]],\"sequentialminus\":[[0.0,\"#0d0887\"],[0.1111111111111111,\"#46039f\"],[0.2222222222222222,\"#7201a8\"],[0.3333333333333333,\"#9c179e\"],[0.4444444444444444,\"#bd3786\"],[0.5555555555555556,\"#d8576b\"],[0.6666666666666666,\"#ed7953\"],[0.7777777777777778,\"#fb9f3a\"],[0.8888888888888888,\"#fdca26\"],[1.0,\"#f0f921\"]],\"diverging\":[[0,\"#8e0152\"],[0.1,\"#c51b7d\"],[0.2,\"#de77ae\"],[0.3,\"#f1b6da\"],[0.4,\"#fde0ef\"],[0.5,\"#f7f7f7\"],[0.6,\"#e6f5d0\"],[0.7,\"#b8e186\"],[0.8,\"#7fbc41\"],[0.9,\"#4d9221\"],[1,\"#276419\"]]},\"xaxis\":{\"gridcolor\":\"white\",\"linecolor\":\"white\",\"ticks\":\"\",\"title\":{\"standoff\":15},\"zerolinecolor\":\"white\",\"automargin\":true,\"zerolinewidth\":2},\"yaxis\":{\"gridcolor\":\"white\",\"linecolor\":\"white\",\"ticks\":\"\",\"title\":{\"standoff\":15},\"zerolinecolor\":\"white\",\"automargin\":true,\"zerolinewidth\":2},\"scene\":{\"xaxis\":{\"backgroundcolor\":\"#E5ECF6\",\"gridcolor\":\"white\",\"linecolor\":\"white\",\"showbackground\":true,\"ticks\":\"\",\"zerolinecolor\":\"white\",\"gridwidth\":2},\"yaxis\":{\"backgroundcolor\":\"#E5ECF6\",\"gridcolor\":\"white\",\"linecolor\":\"white\",\"showbackground\":true,\"ticks\":\"\",\"zerolinecolor\":\"white\",\"gridwidth\":2},\"zaxis\":{\"backgroundcolor\":\"#E5ECF6\",\"gridcolor\":\"white\",\"linecolor\":\"white\",\"showbackground\":true,\"ticks\":\"\",\"zerolinecolor\":\"white\",\"gridwidth\":2}},\"shapedefaults\":{\"line\":{\"color\":\"#2a3f5f\"}},\"annotationdefaults\":{\"arrowcolor\":\"#2a3f5f\",\"arrowhead\":0,\"arrowwidth\":1},\"geo\":{\"bgcolor\":\"white\",\"landcolor\":\"#E5ECF6\",\"subunitcolor\":\"white\",\"showland\":true,\"showlakes\":true,\"lakecolor\":\"white\"},\"title\":{\"x\":0.05},\"mapbox\":{\"style\":\"light\"}}},\"xaxis\":{\"anchor\":\"y\",\"domain\":[0.0,0.98],\"title\":{\"text\":\"data\"}},\"yaxis\":{\"anchor\":\"x\",\"domain\":[0.0,0.485],\"title\":{\"text\":\"percentual\"}},\"xaxis2\":{\"anchor\":\"y2\",\"domain\":[0.0,0.98],\"matches\":\"x\",\"showticklabels\":false},\"yaxis2\":{\"anchor\":\"x2\",\"domain\":[0.515,1.0],\"matches\":\"y\",\"title\":{\"text\":\"percentual\"}},\"annotations\":[{\"font\":{},\"showarrow\":false,\"text\":\"turno=2\",\"textangle\":90,\"x\":0.98,\"xanchor\":\"left\",\"xref\":\"paper\",\"y\":0.2425,\"yanchor\":\"middle\",\"yref\":\"paper\"},{\"font\":{},\"showarrow\":false,\"text\":\"turno=1\",\"textangle\":90,\"x\":0.98,\"xanchor\":\"left\",\"xref\":\"paper\",\"y\":0.7575000000000001,\"yanchor\":\"middle\",\"yref\":\"paper\"}],\"legend\":{\"title\":{\"text\":\"nome_candidato\"},\"tracegroupgap\":0},\"margin\":{\"t\":60}},                        {\"responsive\": true}                    ).then(function(){\n",
       "                            \n",
       "var gd = document.getElementById('bb50e408-ff23-4f9b-9ce9-f171c649f0a0');\n",
       "var x = new MutationObserver(function (mutations, observer) {{\n",
       "        var display = window.getComputedStyle(gd).display;\n",
       "        if (!display || display === 'none') {{\n",
       "            console.log([gd, 'removed!']);\n",
       "            Plotly.purge(gd);\n",
       "            observer.disconnect();\n",
       "        }}\n",
       "}});\n",
       "\n",
       "// Listen for the removal of the full notebook cells\n",
       "var notebookContainer = gd.closest('#notebook-container');\n",
       "if (notebookContainer) {{\n",
       "    x.observe(notebookContainer, {childList: true});\n",
       "}}\n",
       "\n",
       "// Listen for the clearing of the current output cell\n",
       "var outputEl = gd.closest('.output');\n",
       "if (outputEl) {{\n",
       "    x.observe(outputEl, {childList: true});\n",
       "}}\n",
       "\n",
       "                        })                };                });            </script>        </div>"
      ]
     },
     "metadata": {},
     "output_type": "display_data"
    }
   ],
   "source": [
    "pesquisas_2022.plot(x='data', y='percentual', color='nome_candidato', facet_row='turno')"
   ]
  },
  {
   "cell_type": "code",
   "execution_count": 48,
   "id": "308cbcdc",
   "metadata": {},
   "outputs": [],
   "source": [
    "#Criando DataFrame no formato CSV\n",
    "pesquisas_2022['data']= pesquisas_2022['data'].apply(lambda a: pd.to_datetime(a).date())\n",
    "pesquisas_2022.to_excel('pesquisas_2022.xlsx', index=False)"
   ]
  }
 ],
 "metadata": {
  "kernelspec": {
   "display_name": "Python 3",
   "language": "python",
   "name": "python3"
  },
  "language_info": {
   "codemirror_mode": {
    "name": "ipython",
    "version": 3
   },
   "file_extension": ".py",
   "mimetype": "text/x-python",
   "name": "python",
   "nbconvert_exporter": "python",
   "pygments_lexer": "ipython3",
   "version": "3.9.13"
  }
 },
 "nbformat": 4,
 "nbformat_minor": 5
}
