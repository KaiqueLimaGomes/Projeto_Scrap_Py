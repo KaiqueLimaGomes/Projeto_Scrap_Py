{
 "cells": [
  {
   "cell_type": "markdown",
   "id": "1c4c98c9",
   "metadata": {},
   "source": [
    "# Instalação dos módulos necessários e os imports que vão ser utilizados."
   ]
  },
  {
   "cell_type": "code",
   "execution_count": 1,
   "id": "8e1009c0",
   "metadata": {},
   "outputs": [
    {
     "name": "stdout",
     "output_type": "stream",
     "text": [
      "Collecting basedosdados\n",
      "  Downloading basedosdados-1.6.9-py3-none-any.whl (50 kB)\n",
      "     -------------------------------------- 51.0/51.0 kB 515.4 kB/s eta 0:00:00\n",
      "Collecting tqdm==4.50.2\n",
      "  Downloading tqdm-4.50.2-py2.py3-none-any.whl (70 kB)\n",
      "     ---------------------------------------- 70.9/70.9 kB 2.0 MB/s eta 0:00:00\n",
      "Collecting ckanapi==4.6\n",
      "  Downloading ckanapi-4.6.tar.gz (32 kB)\n",
      "  Preparing metadata (setup.py): started\n",
      "  Preparing metadata (setup.py): finished with status 'done'\n",
      "Collecting google-cloud-bigquery==2.30.1\n",
      "  Downloading google_cloud_bigquery-2.30.1-py2.py3-none-any.whl (203 kB)\n",
      "     -------------------------------------- 204.0/204.0 kB 1.2 MB/s eta 0:00:00\n",
      "Requirement already satisfied: toml<0.11.0,>=0.10.2 in c:\\users\\kai-q\\anaconda3\\lib\\site-packages (from basedosdados) (0.10.2)\n",
      "Collecting pandavro<2.0.0,>=1.6.0\n",
      "  Downloading pandavro-1.7.1.tar.gz (8.1 kB)\n",
      "  Preparing metadata (setup.py): started\n",
      "  Preparing metadata (setup.py): finished with status 'done'\n",
      "Collecting google-cloud-bigquery-storage==1.1.0\n",
      "  Downloading google_cloud_bigquery_storage-1.1.0-py2.py3-none-any.whl (135 kB)\n",
      "     -------------------------------------- 135.2/135.2 kB 2.7 MB/s eta 0:00:00\n",
      "Collecting pyarrow==6.0.0\n",
      "  Downloading pyarrow-6.0.0-cp39-cp39-win_amd64.whl (15.5 MB)\n",
      "     ---------------------------------------- 15.5/15.5 MB 1.5 MB/s eta 0:00:00\n",
      "Collecting tomlkit==0.7.0\n",
      "  Downloading tomlkit-0.7.0-py2.py3-none-any.whl (32 kB)\n",
      "Collecting click==8.0.3\n",
      "  Downloading click-8.0.3-py3-none-any.whl (97 kB)\n",
      "     -------------------------------------- 97.5/97.5 kB 619.0 kB/s eta 0:00:00\n",
      "Collecting pyaml==20.4.0\n",
      "  Downloading pyaml-20.4.0-py2.py3-none-any.whl (17 kB)\n",
      "Collecting ruamel.yaml==0.17.10\n",
      "  Downloading ruamel.yaml-0.17.10-py3-none-any.whl (108 kB)\n",
      "     ------------------------------------ 108.4/108.4 kB 261.7 kB/s eta 0:00:00\n",
      "Collecting google-cloud-storage==1.42.3\n",
      "  Downloading google_cloud_storage-1.42.3-py2.py3-none-any.whl (105 kB)\n",
      "     -------------------------------------- 106.0/106.0 kB 6.0 MB/s eta 0:00:00\n",
      "Requirement already satisfied: importlib-metadata<5.0.0,>=4.11.3 in c:\\users\\kai-q\\anaconda3\\lib\\site-packages (from basedosdados) (4.11.3)\n",
      "Requirement already satisfied: pandas<2.0.0,>=1.3.5 in c:\\users\\kai-q\\anaconda3\\lib\\site-packages (from basedosdados) (1.4.4)\n",
      "Collecting loguru<0.7.0,>=0.6.0\n",
      "  Downloading loguru-0.6.0-py3-none-any.whl (58 kB)\n",
      "     ---------------------------------------- 58.3/58.3 kB 1.6 MB/s eta 0:00:00\n",
      "Collecting pandas-gbq<0.18.0,>=0.17.4\n",
      "  Downloading pandas_gbq-0.17.9-py2.py3-none-any.whl (25 kB)\n",
      "Collecting Jinja2==3.0.3\n",
      "  Downloading Jinja2-3.0.3-py3-none-any.whl (133 kB)\n",
      "     ------------------------------------ 133.6/133.6 kB 987.1 kB/s eta 0:00:00\n",
      "Requirement already satisfied: setuptools in c:\\users\\kai-q\\anaconda3\\lib\\site-packages (from ckanapi==4.6->basedosdados) (63.4.1)\n",
      "Collecting docopt\n",
      "  Downloading docopt-0.6.2.tar.gz (25 kB)\n",
      "  Preparing metadata (setup.py): started\n",
      "  Preparing metadata (setup.py): finished with status 'done'\n",
      "Requirement already satisfied: requests in c:\\users\\kai-q\\anaconda3\\lib\\site-packages (from ckanapi==4.6->basedosdados) (2.28.1)\n",
      "Requirement already satisfied: python-slugify>=1.0 in c:\\users\\kai-q\\anaconda3\\lib\\site-packages (from ckanapi==4.6->basedosdados) (5.0.2)\n",
      "Requirement already satisfied: six<2.0,>=1.9 in c:\\users\\kai-q\\anaconda3\\lib\\site-packages (from ckanapi==4.6->basedosdados) (1.16.0)\n",
      "Requirement already satisfied: colorama in c:\\users\\kai-q\\anaconda3\\lib\\site-packages (from click==8.0.3->basedosdados) (0.4.5)\n",
      "Collecting google-cloud-core<3.0.0dev,>=1.4.1\n",
      "  Downloading google_cloud_core-2.3.2-py2.py3-none-any.whl (29 kB)\n",
      "Collecting grpcio<2.0dev,>=1.38.1\n",
      "  Downloading grpcio-1.51.1-cp39-cp39-win_amd64.whl (3.7 MB)\n",
      "     ---------------------------------------- 3.7/3.7 MB 1.3 MB/s eta 0:00:00\n",
      "Requirement already satisfied: packaging>=14.3 in c:\\users\\kai-q\\anaconda3\\lib\\site-packages (from google-cloud-bigquery==2.30.1->basedosdados) (21.3)\n",
      "Collecting google-api-core[grpc]<3.0.0dev,>=1.29.0\n",
      "  Downloading google_api_core-2.10.2-py3-none-any.whl (115 kB)\n",
      "     -------------------------------------- 115.6/115.6 kB 1.7 MB/s eta 0:00:00\n",
      "Collecting proto-plus>=1.10.0\n",
      "  Downloading proto_plus-1.22.1-py3-none-any.whl (47 kB)\n",
      "     ---------------------------------------- 47.9/47.9 kB 2.4 MB/s eta 0:00:00\n",
      "Collecting google-resumable-media<3.0dev,>=0.6.0\n",
      "  Downloading google_resumable_media-2.4.0-py2.py3-none-any.whl (77 kB)\n",
      "     ---------------------------------------- 77.4/77.4 kB 2.2 MB/s eta 0:00:00\n",
      "Collecting protobuf>=3.12.0\n",
      "  Downloading protobuf-4.21.9-cp39-cp39-win_amd64.whl (525 kB)\n",
      "     ------------------------------------ 525.5/525.5 kB 915.3 kB/s eta 0:00:00\n",
      "Requirement already satisfied: python-dateutil<3.0dev,>=2.7.2 in c:\\users\\kai-q\\anaconda3\\lib\\site-packages (from google-cloud-bigquery==2.30.1->basedosdados) (2.8.2)\n",
      "Collecting google-api-core[grpc]<3.0.0dev,>=1.29.0\n",
      "  Downloading google_api_core-1.33.2-py3-none-any.whl (115 kB)\n",
      "     ------------------------------------ 115.5/115.5 kB 842.0 kB/s eta 0:00:00\n",
      "Collecting google-auth<3.0dev,>=1.25.0\n",
      "  Downloading google_auth-2.14.1-py2.py3-none-any.whl (175 kB)\n",
      "     -------------------------------------- 175.4/175.4 kB 1.5 MB/s eta 0:00:00\n",
      "Requirement already satisfied: MarkupSafe>=2.0 in c:\\users\\kai-q\\anaconda3\\lib\\site-packages (from Jinja2==3.0.3->basedosdados) (2.0.1)\n",
      "Requirement already satisfied: PyYAML in c:\\users\\kai-q\\anaconda3\\lib\\site-packages (from pyaml==20.4.0->basedosdados) (6.0)\n",
      "Requirement already satisfied: numpy>=1.16.6 in c:\\users\\kai-q\\anaconda3\\lib\\site-packages (from pyarrow==6.0.0->basedosdados) (1.21.5)\n",
      "Collecting ruamel.yaml.clib>=0.1.2\n",
      "  Downloading ruamel.yaml.clib-0.2.7-cp39-cp39-win_amd64.whl (118 kB)\n",
      "     -------------------------------------- 118.4/118.4 kB 1.4 MB/s eta 0:00:00\n",
      "Requirement already satisfied: zipp>=0.5 in c:\\users\\kai-q\\anaconda3\\lib\\site-packages (from importlib-metadata<5.0.0,>=4.11.3->basedosdados) (3.8.0)\n",
      "Collecting win32-setctime>=1.0.0\n",
      "  Downloading win32_setctime-1.1.0-py3-none-any.whl (3.6 kB)\n",
      "Requirement already satisfied: pytz>=2020.1 in c:\\users\\kai-q\\anaconda3\\lib\\site-packages (from pandas<2.0.0,>=1.3.5->basedosdados) (2022.1)\n",
      "Collecting google-auth-oauthlib>=0.0.1\n",
      "  Downloading google_auth_oauthlib-0.7.1-py2.py3-none-any.whl (19 kB)\n",
      "Collecting db-dtypes<2.0.0,>=0.3.1\n",
      "  Downloading db_dtypes-1.0.4-py2.py3-none-any.whl (14 kB)\n",
      "Collecting pydata-google-auth\n",
      "  Downloading pydata_google_auth-1.4.0-py2.py3-none-any.whl (14 kB)\n",
      "Collecting fastavro==1.5.1\n",
      "  Downloading fastavro-1.5.1-cp39-cp39-win_amd64.whl (435 kB)\n",
      "     -------------------------------------- 435.4/435.4 kB 1.6 MB/s eta 0:00:00\n",
      "Collecting googleapis-common-protos<2.0dev,>=1.56.2\n",
      "  Downloading googleapis_common_protos-1.57.0-py2.py3-none-any.whl (217 kB)\n",
      "     -------------------------------------- 218.0/218.0 kB 1.9 MB/s eta 0:00:00\n",
      "Collecting protobuf>=3.12.0\n",
      "  Downloading protobuf-3.20.3-cp39-cp39-win_amd64.whl (904 kB)\n",
      "     -------------------------------------- 904.2/904.2 kB 1.3 MB/s eta 0:00:00\n",
      "Collecting grpcio-status<2.0dev,>=1.33.2\n",
      "  Downloading grpcio_status-1.51.1-py3-none-any.whl (5.1 kB)\n",
      "Collecting rsa<5,>=3.1.4\n",
      "  Downloading rsa-4.9-py3-none-any.whl (34 kB)\n",
      "Requirement already satisfied: pyasn1-modules>=0.2.1 in c:\\users\\kai-q\\anaconda3\\lib\\site-packages (from google-auth<3.0dev,>=1.25.0->google-cloud-storage==1.42.3->basedosdados) (0.2.8)\n",
      "Collecting cachetools<6.0,>=2.0.0\n",
      "  Downloading cachetools-5.2.0-py3-none-any.whl (9.3 kB)\n",
      "Collecting requests-oauthlib>=0.7.0\n",
      "  Downloading requests_oauthlib-1.3.1-py2.py3-none-any.whl (23 kB)\n",
      "Collecting google-crc32c<2.0dev,>=1.0\n",
      "  Downloading google_crc32c-1.5.0-cp39-cp39-win_amd64.whl (27 kB)\n",
      "Requirement already satisfied: pyparsing!=3.0.5,>=2.0.2 in c:\\users\\kai-q\\anaconda3\\lib\\site-packages (from packaging>=14.3->google-cloud-bigquery==2.30.1->basedosdados) (3.0.9)\n",
      "Requirement already satisfied: text-unidecode>=1.3 in c:\\users\\kai-q\\anaconda3\\lib\\site-packages (from python-slugify>=1.0->ckanapi==4.6->basedosdados) (1.3)\n",
      "Requirement already satisfied: charset-normalizer<3,>=2 in c:\\users\\kai-q\\anaconda3\\lib\\site-packages (from requests->ckanapi==4.6->basedosdados) (2.0.4)\n",
      "Requirement already satisfied: urllib3<1.27,>=1.21.1 in c:\\users\\kai-q\\anaconda3\\lib\\site-packages (from requests->ckanapi==4.6->basedosdados) (1.26.11)\n",
      "Requirement already satisfied: certifi>=2017.4.17 in c:\\users\\kai-q\\anaconda3\\lib\\site-packages (from requests->ckanapi==4.6->basedosdados) (2022.9.14)\n",
      "Requirement already satisfied: idna<4,>=2.5 in c:\\users\\kai-q\\anaconda3\\lib\\site-packages (from requests->ckanapi==4.6->basedosdados) (2.10)\n",
      "Collecting grpcio-status<2.0dev,>=1.33.2\n",
      "  Downloading grpcio_status-1.50.0-py3-none-any.whl (14 kB)\n",
      "  Downloading grpcio_status-1.49.1-py3-none-any.whl (14 kB)\n",
      "  Downloading grpcio_status-1.48.2-py3-none-any.whl (14 kB)\n",
      "Requirement already satisfied: pyasn1<0.5.0,>=0.4.6 in c:\\users\\kai-q\\anaconda3\\lib\\site-packages (from pyasn1-modules>=0.2.1->google-auth<3.0dev,>=1.25.0->google-cloud-storage==1.42.3->basedosdados) (0.4.8)\n",
      "Collecting oauthlib>=3.0.0\n",
      "  Downloading oauthlib-3.2.2-py3-none-any.whl (151 kB)\n",
      "     -------------------------------------- 151.7/151.7 kB 3.0 MB/s eta 0:00:00\n",
      "Building wheels for collected packages: ckanapi, pandavro, docopt\n",
      "  Building wheel for ckanapi (setup.py): started\n",
      "  Building wheel for ckanapi (setup.py): finished with status 'done'\n",
      "  Created wheel for ckanapi: filename=ckanapi-4.6-py3-none-any.whl size=40683 sha256=927e512a395041a51db7469bd90f60c337f09931ecb3225f5e08d040bc25d31b\n",
      "  Stored in directory: c:\\users\\kai-q\\appdata\\local\\pip\\cache\\wheels\\93\\0a\\67\\2d0a343e082fb1b1f2809ddc5ada0c528dbda0bd90a0233e98\n",
      "  Building wheel for pandavro (setup.py): started\n",
      "  Building wheel for pandavro (setup.py): finished with status 'done'\n",
      "  Created wheel for pandavro: filename=pandavro-1.7.1-py3-none-any.whl size=5670 sha256=8d6e67e26f6859e328192b9359f1508084ef5cb72ca18f9035f1725af9353c55\n",
      "  Stored in directory: c:\\users\\kai-q\\appdata\\local\\pip\\cache\\wheels\\45\\12\\aa\\aa640f089d2d14477165fe23e5310f4b219ecd5ae87ff6ca74\n",
      "  Building wheel for docopt (setup.py): started\n",
      "  Building wheel for docopt (setup.py): finished with status 'done'\n",
      "  Created wheel for docopt: filename=docopt-0.6.2-py2.py3-none-any.whl size=13706 sha256=9954f49242718dd79a540a9f07bd78d73b53b2683eaaf6a3efd24363d2fcfa4c\n",
      "  Stored in directory: c:\\users\\kai-q\\appdata\\local\\pip\\cache\\wheels\\70\\4a\\46\\1309fc853b8d395e60bafaf1b6df7845bdd82c95fd59dd8d2b\n",
      "Successfully built ckanapi pandavro docopt\n",
      "Installing collected packages: docopt, win32-setctime, tqdm, tomlkit, ruamel.yaml.clib, rsa, pyarrow, pyaml, protobuf, oauthlib, Jinja2, grpcio, google-crc32c, fastavro, click, cachetools, ruamel.yaml, requests-oauthlib, proto-plus, loguru, googleapis-common-protos, google-resumable-media, google-auth, ckanapi, pandavro, grpcio-status, google-auth-oauthlib, google-api-core, db-dtypes, pydata-google-auth, google-cloud-core, google-cloud-storage, google-cloud-bigquery-storage, google-cloud-bigquery, pandas-gbq, basedosdados\n",
      "  Attempting uninstall: tqdm\n",
      "    Found existing installation: tqdm 4.64.1\n",
      "    Uninstalling tqdm-4.64.1:\n",
      "      Successfully uninstalled tqdm-4.64.1\n",
      "  Attempting uninstall: tomlkit\n",
      "    Found existing installation: tomlkit 0.11.1\n",
      "    Uninstalling tomlkit-0.11.1:\n",
      "      Successfully uninstalled tomlkit-0.11.1\n",
      "  Attempting uninstall: Jinja2\n",
      "    Found existing installation: Jinja2 2.11.3\n",
      "    Uninstalling Jinja2-2.11.3:\n",
      "      Successfully uninstalled Jinja2-2.11.3\n",
      "  Attempting uninstall: click\n",
      "    Found existing installation: click 8.0.4\n",
      "    Uninstalling click-8.0.4:\n",
      "      Successfully uninstalled click-8.0.4\n",
      "Successfully installed Jinja2-3.0.3 basedosdados-1.6.9 cachetools-5.2.0 ckanapi-4.6 click-8.0.3 db-dtypes-1.0.4 docopt-0.6.2 fastavro-1.5.1 google-api-core-1.33.2 google-auth-2.14.1 google-auth-oauthlib-0.7.1 google-cloud-bigquery-2.30.1 google-cloud-bigquery-storage-1.1.0 google-cloud-core-2.3.2 google-cloud-storage-1.42.3 google-crc32c-1.5.0 google-resumable-media-2.4.0 googleapis-common-protos-1.57.0 grpcio-1.51.1 grpcio-status-1.48.2 loguru-0.6.0 oauthlib-3.2.2 pandas-gbq-0.17.9 pandavro-1.7.1 proto-plus-1.22.1 protobuf-3.20.3 pyaml-20.4.0 pyarrow-6.0.0 pydata-google-auth-1.4.0 requests-oauthlib-1.3.1 rsa-4.9 ruamel.yaml-0.17.10 ruamel.yaml.clib-0.2.7 tomlkit-0.7.0 tqdm-4.50.2 win32-setctime-1.1.0\n"
     ]
    },
    {
     "name": "stderr",
     "output_type": "stream",
     "text": [
      "ERROR: pip's dependency resolver does not currently take into account all the packages that are installed. This behaviour is the source of the following dependency conflicts.\n",
      "pylint 2.14.5 requires tomlkit>=0.10.1, but you have tomlkit 0.7.0 which is incompatible.\n",
      "anaconda-client 1.11.0 requires tqdm>=4.56.0, but you have tqdm 4.50.2 which is incompatible.\n"
     ]
    }
   ],
   "source": [
    "!pip install basedosdados\n",
    "#Pacote do base dos dados"
   ]
  },
  {
   "cell_type": "code",
   "execution_count": 23,
   "id": "23294be3",
   "metadata": {},
   "outputs": [],
   "source": [
    "import basedosdados as bd\n",
    "import pandas as pd"
   ]
  },
  {
   "cell_type": "markdown",
   "id": "b165517f",
   "metadata": {},
   "source": [
    "# Realizando requição com as credenciais do Google Cloud.  "
   ]
  },
  {
   "cell_type": "code",
   "execution_count": 8,
   "id": "48461a3c",
   "metadata": {},
   "outputs": [
    {
     "name": "stderr",
     "output_type": "stream",
     "text": [
      "Downloading: 100%|██████████| 158418/158418 [00:27<00:00, 5700.13rows/s]\n"
     ]
    }
   ],
   "source": [
    "# Para carregar o dado direto no pandas\n",
    "df = bd.read_table(dataset_id='br_poder360_pesquisas',\n",
    "table_id='microdados',\n",
    "billing_project_id=\"<SEU PROJETO ID AQUI>\") #<-- ID DO PROJETO!!\n",
    "#Crie um projeto no Google Cloud e ensira o ID do mesmo no campo indicado."
   ]
  },
  {
   "cell_type": "code",
   "execution_count": 9,
   "id": "13505bca",
   "metadata": {},
   "outputs": [
    {
     "data": {
      "text/html": [
       "<div>\n",
       "<style scoped>\n",
       "    .dataframe tbody tr th:only-of-type {\n",
       "        vertical-align: middle;\n",
       "    }\n",
       "\n",
       "    .dataframe tbody tr th {\n",
       "        vertical-align: top;\n",
       "    }\n",
       "\n",
       "    .dataframe thead th {\n",
       "        text-align: right;\n",
       "    }\n",
       "</style>\n",
       "<table border=\"1\" class=\"dataframe\">\n",
       "  <thead>\n",
       "    <tr style=\"text-align: right;\">\n",
       "      <th></th>\n",
       "      <th>id_pesquisa</th>\n",
       "      <th>ano</th>\n",
       "      <th>sigla_uf</th>\n",
       "      <th>nome_municipio</th>\n",
       "      <th>cargo</th>\n",
       "      <th>data</th>\n",
       "      <th>data_referencia</th>\n",
       "      <th>instituto</th>\n",
       "      <th>contratante</th>\n",
       "      <th>orgao_registro</th>\n",
       "      <th>...</th>\n",
       "      <th>tipo</th>\n",
       "      <th>turno</th>\n",
       "      <th>tipo_voto</th>\n",
       "      <th>id_cenario</th>\n",
       "      <th>descricao_cenario</th>\n",
       "      <th>id_candidato_poder360</th>\n",
       "      <th>nome_candidato</th>\n",
       "      <th>sigla_partido</th>\n",
       "      <th>condicao</th>\n",
       "      <th>percentual</th>\n",
       "    </tr>\n",
       "  </thead>\n",
       "  <tbody>\n",
       "    <tr>\n",
       "      <th>0</th>\n",
       "      <td>8023</td>\n",
       "      <td>2006</td>\n",
       "      <td>None</td>\n",
       "      <td>None</td>\n",
       "      <td>presidente</td>\n",
       "      <td>2006-09-19</td>\n",
       "      <td>18-19.set.06</td>\n",
       "      <td>Datafolha</td>\n",
       "      <td>None</td>\n",
       "      <td>None</td>\n",
       "      <td>...</td>\n",
       "      <td>estimulada</td>\n",
       "      <td>1</td>\n",
       "      <td>votos totais</td>\n",
       "      <td>20265</td>\n",
       "      <td>cenário único - estimulado</td>\n",
       "      <td>97</td>\n",
       "      <td>Ana Maria Rangel</td>\n",
       "      <td>PRP</td>\n",
       "      <td>0</td>\n",
       "      <td>0.0</td>\n",
       "    </tr>\n",
       "    <tr>\n",
       "      <th>1</th>\n",
       "      <td>8023</td>\n",
       "      <td>2006</td>\n",
       "      <td>None</td>\n",
       "      <td>None</td>\n",
       "      <td>presidente</td>\n",
       "      <td>2006-09-19</td>\n",
       "      <td>18-19.set.06</td>\n",
       "      <td>Datafolha</td>\n",
       "      <td>None</td>\n",
       "      <td>None</td>\n",
       "      <td>...</td>\n",
       "      <td>estimulada</td>\n",
       "      <td>1</td>\n",
       "      <td>votos totais</td>\n",
       "      <td>20265</td>\n",
       "      <td>cenário único - estimulado</td>\n",
       "      <td>938</td>\n",
       "      <td>Luciano Bivar</td>\n",
       "      <td>PSL</td>\n",
       "      <td>0</td>\n",
       "      <td>0.0</td>\n",
       "    </tr>\n",
       "    <tr>\n",
       "      <th>2</th>\n",
       "      <td>8023</td>\n",
       "      <td>2006</td>\n",
       "      <td>None</td>\n",
       "      <td>None</td>\n",
       "      <td>presidente</td>\n",
       "      <td>2006-09-19</td>\n",
       "      <td>18-19.set.06</td>\n",
       "      <td>Datafolha</td>\n",
       "      <td>None</td>\n",
       "      <td>None</td>\n",
       "      <td>...</td>\n",
       "      <td>estimulada</td>\n",
       "      <td>1</td>\n",
       "      <td>votos totais</td>\n",
       "      <td>20265</td>\n",
       "      <td>cenário único - estimulado</td>\n",
       "      <td>575</td>\n",
       "      <td>Alckmin</td>\n",
       "      <td>PSDB</td>\n",
       "      <td>0</td>\n",
       "      <td>29.0</td>\n",
       "    </tr>\n",
       "    <tr>\n",
       "      <th>3</th>\n",
       "      <td>8023</td>\n",
       "      <td>2006</td>\n",
       "      <td>None</td>\n",
       "      <td>None</td>\n",
       "      <td>presidente</td>\n",
       "      <td>2006-09-19</td>\n",
       "      <td>18-19.set.06</td>\n",
       "      <td>Datafolha</td>\n",
       "      <td>None</td>\n",
       "      <td>None</td>\n",
       "      <td>...</td>\n",
       "      <td>estimulada</td>\n",
       "      <td>1</td>\n",
       "      <td>votos totais</td>\n",
       "      <td>20265</td>\n",
       "      <td>cenário único - estimulado</td>\n",
       "      <td>1508</td>\n",
       "      <td>Rui Costa Pimenta</td>\n",
       "      <td>PCO</td>\n",
       "      <td>0</td>\n",
       "      <td>0.0</td>\n",
       "    </tr>\n",
       "    <tr>\n",
       "      <th>4</th>\n",
       "      <td>8023</td>\n",
       "      <td>2006</td>\n",
       "      <td>None</td>\n",
       "      <td>None</td>\n",
       "      <td>presidente</td>\n",
       "      <td>2006-09-19</td>\n",
       "      <td>18-19.set.06</td>\n",
       "      <td>Datafolha</td>\n",
       "      <td>None</td>\n",
       "      <td>None</td>\n",
       "      <td>...</td>\n",
       "      <td>estimulada</td>\n",
       "      <td>1</td>\n",
       "      <td>votos totais</td>\n",
       "      <td>20265</td>\n",
       "      <td>cenário único - estimulado</td>\n",
       "      <td>327</td>\n",
       "      <td>Cristovam Buarque</td>\n",
       "      <td>PDT</td>\n",
       "      <td>0</td>\n",
       "      <td>2.0</td>\n",
       "    </tr>\n",
       "  </tbody>\n",
       "</table>\n",
       "<p>5 rows × 24 columns</p>\n",
       "</div>"
      ],
      "text/plain": [
       "  id_pesquisa   ano sigla_uf nome_municipio       cargo        data  \\\n",
       "0        8023  2006     None           None  presidente  2006-09-19   \n",
       "1        8023  2006     None           None  presidente  2006-09-19   \n",
       "2        8023  2006     None           None  presidente  2006-09-19   \n",
       "3        8023  2006     None           None  presidente  2006-09-19   \n",
       "4        8023  2006     None           None  presidente  2006-09-19   \n",
       "\n",
       "  data_referencia  instituto contratante orgao_registro  ...        tipo  \\\n",
       "0    18-19.set.06  Datafolha        None           None  ...  estimulada   \n",
       "1    18-19.set.06  Datafolha        None           None  ...  estimulada   \n",
       "2    18-19.set.06  Datafolha        None           None  ...  estimulada   \n",
       "3    18-19.set.06  Datafolha        None           None  ...  estimulada   \n",
       "4    18-19.set.06  Datafolha        None           None  ...  estimulada   \n",
       "\n",
       "   turno     tipo_voto  id_cenario           descricao_cenario  \\\n",
       "0      1  votos totais       20265  cenário único - estimulado   \n",
       "1      1  votos totais       20265  cenário único - estimulado   \n",
       "2      1  votos totais       20265  cenário único - estimulado   \n",
       "3      1  votos totais       20265  cenário único - estimulado   \n",
       "4      1  votos totais       20265  cenário único - estimulado   \n",
       "\n",
       "   id_candidato_poder360     nome_candidato sigla_partido condicao percentual  \n",
       "0                     97   Ana Maria Rangel           PRP        0        0.0  \n",
       "1                    938      Luciano Bivar           PSL        0        0.0  \n",
       "2                    575            Alckmin          PSDB        0       29.0  \n",
       "3                   1508  Rui Costa Pimenta           PCO        0        0.0  \n",
       "4                    327  Cristovam Buarque           PDT        0        2.0  \n",
       "\n",
       "[5 rows x 24 columns]"
      ]
     },
     "execution_count": 9,
     "metadata": {},
     "output_type": "execute_result"
    }
   ],
   "source": [
    "df.head()"
   ]
  },
  {
   "cell_type": "markdown",
   "id": "55a61c40",
   "metadata": {},
   "source": [
    "# Realizando um filtro no DataFrame"
   ]
  },
  {
   "cell_type": "code",
   "execution_count": 42,
   "id": "9e4d631b",
   "metadata": {},
   "outputs": [],
   "source": [
    "#Filtrando por instituto DATAFOLHA\n",
    "pesquisas_2022 = df[(df.instituto == 'Datafolha') \n",
    "                    & (df.ano == 2022) \n",
    "                    & (df.cargo == 'presidente') \n",
    "                    & (df.sigla_uf.isnull()) \n",
    "                    & (df.tipo == 'estimulada') \n",
    "                    & ((df.nome_candidato == 'Lula') | (df.nome_candidato == 'Bolsonaro'))\n",
    "                    & (df.descricao_cenario.str.contains('cenário 1')==True) ].sort_values(by='data')"
   ]
  },
  {
   "cell_type": "code",
   "execution_count": 36,
   "id": "9e27e6be",
   "metadata": {},
   "outputs": [],
   "source": [
    "pd.options.plotting.backend = \"plotly\""
   ]
  },
  {
   "cell_type": "code",
   "execution_count": 46,
   "id": "395c9c9a",
   "metadata": {},
   "outputs": [
    {
     "data": {
      "application/vnd.plotly.v1+json": {
       "config": {
        "plotlyServerURL": "https://plot.ly"
       },
       "data": [
        {
         "hovertemplate": "nome_candidato=Bolsonaro<br>turno=1<br>data=%{x}<br>percentual=%{y}<extra></extra>",
         "legendgroup": "Bolsonaro",
         "line": {
          "color": "#636efa",
          "dash": "solid"
         },
         "marker": {
          "symbol": "circle"
         },
         "mode": "lines",
         "name": "Bolsonaro",
         "orientation": "v",
         "showlegend": true,
         "type": "scatter",
         "x": [
          "2021-05-12",
          "2021-07-08",
          "2021-09-15",
          "2021-12-16",
          "2022-03-23",
          "2022-05-26",
          "2022-06-23",
          "2022-07-28",
          "2022-08-18",
          "2022-09-01",
          "2022-09-09",
          "2022-09-15",
          "2022-09-22",
          "2022-09-29",
          "2022-10-01"
         ],
         "xaxis": "x2",
         "y": [
          23,
          25,
          26,
          22,
          26,
          27,
          28,
          29,
          32,
          32,
          34,
          33,
          33,
          34,
          34
         ],
         "yaxis": "y2"
        },
        {
         "hovertemplate": "nome_candidato=Bolsonaro<br>turno=2<br>data=%{x}<br>percentual=%{y}<extra></extra>",
         "legendgroup": "Bolsonaro",
         "line": {
          "color": "#636efa",
          "dash": "solid"
         },
         "marker": {
          "symbol": "circle"
         },
         "mode": "lines",
         "name": "Bolsonaro",
         "orientation": "v",
         "showlegend": false,
         "type": "scatter",
         "x": [
          "2021-05-12",
          "2021-07-08",
          "2021-09-15",
          "2021-12-16",
          "2022-03-23",
          "2022-05-26",
          "2022-06-23",
          "2022-07-28",
          "2022-08-18",
          "2022-09-01",
          "2022-09-09",
          "2022-09-15",
          "2022-09-22",
          "2022-09-29",
          "2022-10-01",
          "2022-10-07",
          "2022-10-14",
          "2022-10-19",
          "2022-10-27",
          "2022-10-29"
         ],
         "xaxis": "x",
         "y": [
          32,
          31,
          31,
          30,
          34,
          33,
          34,
          35,
          37,
          37,
          39,
          38,
          38,
          39,
          38,
          44,
          44,
          45,
          44,
          45
         ],
         "yaxis": "y"
        },
        {
         "hovertemplate": "nome_candidato=Lula<br>turno=1<br>data=%{x}<br>percentual=%{y}<extra></extra>",
         "legendgroup": "Lula",
         "line": {
          "color": "#EF553B",
          "dash": "solid"
         },
         "marker": {
          "symbol": "circle"
         },
         "mode": "lines",
         "name": "Lula",
         "orientation": "v",
         "showlegend": true,
         "type": "scatter",
         "x": [
          "2021-05-12",
          "2021-07-08",
          "2021-09-15",
          "2021-12-16",
          "2022-03-23",
          "2022-05-26",
          "2022-06-23",
          "2022-07-28",
          "2022-08-18",
          "2022-09-01",
          "2022-09-09",
          "2022-09-15",
          "2022-09-22",
          "2022-09-29",
          "2022-10-01"
         ],
         "xaxis": "x2",
         "y": [
          41,
          46,
          44,
          48,
          43,
          48,
          47,
          47,
          47,
          45,
          45,
          45,
          47,
          48,
          48
         ],
         "yaxis": "y2"
        },
        {
         "hovertemplate": "nome_candidato=Lula<br>turno=2<br>data=%{x}<br>percentual=%{y}<extra></extra>",
         "legendgroup": "Lula",
         "line": {
          "color": "#EF553B",
          "dash": "solid"
         },
         "marker": {
          "symbol": "circle"
         },
         "mode": "lines",
         "name": "Lula",
         "orientation": "v",
         "showlegend": false,
         "type": "scatter",
         "x": [
          "2021-05-12",
          "2021-07-08",
          "2021-09-15",
          "2021-12-16",
          "2022-03-23",
          "2022-05-26",
          "2022-06-23",
          "2022-07-28",
          "2022-08-18",
          "2022-09-01",
          "2022-09-09",
          "2022-09-15",
          "2022-09-22",
          "2022-09-29",
          "2022-10-01",
          "2022-10-07",
          "2022-10-14",
          "2022-10-19",
          "2022-10-27",
          "2022-10-29"
         ],
         "xaxis": "x",
         "y": [
          55,
          58,
          56,
          59,
          55,
          58,
          57,
          55,
          54,
          54,
          53,
          54,
          54,
          54,
          54,
          49,
          49,
          49,
          49,
          49
         ],
         "yaxis": "y"
        }
       ],
       "layout": {
        "annotations": [
         {
          "font": {},
          "showarrow": false,
          "text": "turno=2",
          "textangle": 90,
          "x": 0.98,
          "xanchor": "left",
          "xref": "paper",
          "y": 0.2425,
          "yanchor": "middle",
          "yref": "paper"
         },
         {
          "font": {},
          "showarrow": false,
          "text": "turno=1",
          "textangle": 90,
          "x": 0.98,
          "xanchor": "left",
          "xref": "paper",
          "y": 0.7575000000000001,
          "yanchor": "middle",
          "yref": "paper"
         }
        ],
        "legend": {
         "title": {
          "text": "nome_candidato"
         },
         "tracegroupgap": 0
        },
        "margin": {
         "t": 60
        },
        "template": {
         "data": {
          "bar": [
           {
            "error_x": {
             "color": "#2a3f5f"
            },
            "error_y": {
             "color": "#2a3f5f"
            },
            "marker": {
             "line": {
              "color": "#E5ECF6",
              "width": 0.5
             },
             "pattern": {
              "fillmode": "overlay",
              "size": 10,
              "solidity": 0.2
             }
            },
            "type": "bar"
           }
          ],
          "barpolar": [
           {
            "marker": {
             "line": {
              "color": "#E5ECF6",
              "width": 0.5
             },
             "pattern": {
              "fillmode": "overlay",
              "size": 10,
              "solidity": 0.2
             }
            },
            "type": "barpolar"
           }
          ],
          "carpet": [
           {
            "aaxis": {
             "endlinecolor": "#2a3f5f",
             "gridcolor": "white",
             "linecolor": "white",
             "minorgridcolor": "white",
             "startlinecolor": "#2a3f5f"
            },
            "baxis": {
             "endlinecolor": "#2a3f5f",
             "gridcolor": "white",
             "linecolor": "white",
             "minorgridcolor": "white",
             "startlinecolor": "#2a3f5f"
            },
            "type": "carpet"
           }
          ],
          "choropleth": [
           {
            "colorbar": {
             "outlinewidth": 0,
             "ticks": ""
            },
            "type": "choropleth"
           }
          ],
          "contour": [
           {
            "colorbar": {
             "outlinewidth": 0,
             "ticks": ""
            },
            "colorscale": [
             [
              0,
              "#0d0887"
             ],
             [
              0.1111111111111111,
              "#46039f"
             ],
             [
              0.2222222222222222,
              "#7201a8"
             ],
             [
              0.3333333333333333,
              "#9c179e"
             ],
             [
              0.4444444444444444,
              "#bd3786"
             ],
             [
              0.5555555555555556,
              "#d8576b"
             ],
             [
              0.6666666666666666,
              "#ed7953"
             ],
             [
              0.7777777777777778,
              "#fb9f3a"
             ],
             [
              0.8888888888888888,
              "#fdca26"
             ],
             [
              1,
              "#f0f921"
             ]
            ],
            "type": "contour"
           }
          ],
          "contourcarpet": [
           {
            "colorbar": {
             "outlinewidth": 0,
             "ticks": ""
            },
            "type": "contourcarpet"
           }
          ],
          "heatmap": [
           {
            "colorbar": {
             "outlinewidth": 0,
             "ticks": ""
            },
            "colorscale": [
             [
              0,
              "#0d0887"
             ],
             [
              0.1111111111111111,
              "#46039f"
             ],
             [
              0.2222222222222222,
              "#7201a8"
             ],
             [
              0.3333333333333333,
              "#9c179e"
             ],
             [
              0.4444444444444444,
              "#bd3786"
             ],
             [
              0.5555555555555556,
              "#d8576b"
             ],
             [
              0.6666666666666666,
              "#ed7953"
             ],
             [
              0.7777777777777778,
              "#fb9f3a"
             ],
             [
              0.8888888888888888,
              "#fdca26"
             ],
             [
              1,
              "#f0f921"
             ]
            ],
            "type": "heatmap"
           }
          ],
          "heatmapgl": [
           {
            "colorbar": {
             "outlinewidth": 0,
             "ticks": ""
            },
            "colorscale": [
             [
              0,
              "#0d0887"
             ],
             [
              0.1111111111111111,
              "#46039f"
             ],
             [
              0.2222222222222222,
              "#7201a8"
             ],
             [
              0.3333333333333333,
              "#9c179e"
             ],
             [
              0.4444444444444444,
              "#bd3786"
             ],
             [
              0.5555555555555556,
              "#d8576b"
             ],
             [
              0.6666666666666666,
              "#ed7953"
             ],
             [
              0.7777777777777778,
              "#fb9f3a"
             ],
             [
              0.8888888888888888,
              "#fdca26"
             ],
             [
              1,
              "#f0f921"
             ]
            ],
            "type": "heatmapgl"
           }
          ],
          "histogram": [
           {
            "marker": {
             "pattern": {
              "fillmode": "overlay",
              "size": 10,
              "solidity": 0.2
             }
            },
            "type": "histogram"
           }
          ],
          "histogram2d": [
           {
            "colorbar": {
             "outlinewidth": 0,
             "ticks": ""
            },
            "colorscale": [
             [
              0,
              "#0d0887"
             ],
             [
              0.1111111111111111,
              "#46039f"
             ],
             [
              0.2222222222222222,
              "#7201a8"
             ],
             [
              0.3333333333333333,
              "#9c179e"
             ],
             [
              0.4444444444444444,
              "#bd3786"
             ],
             [
              0.5555555555555556,
              "#d8576b"
             ],
             [
              0.6666666666666666,
              "#ed7953"
             ],
             [
              0.7777777777777778,
              "#fb9f3a"
             ],
             [
              0.8888888888888888,
              "#fdca26"
             ],
             [
              1,
              "#f0f921"
             ]
            ],
            "type": "histogram2d"
           }
          ],
          "histogram2dcontour": [
           {
            "colorbar": {
             "outlinewidth": 0,
             "ticks": ""
            },
            "colorscale": [
             [
              0,
              "#0d0887"
             ],
             [
              0.1111111111111111,
              "#46039f"
             ],
             [
              0.2222222222222222,
              "#7201a8"
             ],
             [
              0.3333333333333333,
              "#9c179e"
             ],
             [
              0.4444444444444444,
              "#bd3786"
             ],
             [
              0.5555555555555556,
              "#d8576b"
             ],
             [
              0.6666666666666666,
              "#ed7953"
             ],
             [
              0.7777777777777778,
              "#fb9f3a"
             ],
             [
              0.8888888888888888,
              "#fdca26"
             ],
             [
              1,
              "#f0f921"
             ]
            ],
            "type": "histogram2dcontour"
           }
          ],
          "mesh3d": [
           {
            "colorbar": {
             "outlinewidth": 0,
             "ticks": ""
            },
            "type": "mesh3d"
           }
          ],
          "parcoords": [
           {
            "line": {
             "colorbar": {
              "outlinewidth": 0,
              "ticks": ""
             }
            },
            "type": "parcoords"
           }
          ],
          "pie": [
           {
            "automargin": true,
            "type": "pie"
           }
          ],
          "scatter": [
           {
            "fillpattern": {
             "fillmode": "overlay",
             "size": 10,
             "solidity": 0.2
            },
            "type": "scatter"
           }
          ],
          "scatter3d": [
           {
            "line": {
             "colorbar": {
              "outlinewidth": 0,
              "ticks": ""
             }
            },
            "marker": {
             "colorbar": {
              "outlinewidth": 0,
              "ticks": ""
             }
            },
            "type": "scatter3d"
           }
          ],
          "scattercarpet": [
           {
            "marker": {
             "colorbar": {
              "outlinewidth": 0,
              "ticks": ""
             }
            },
            "type": "scattercarpet"
           }
          ],
          "scattergeo": [
           {
            "marker": {
             "colorbar": {
              "outlinewidth": 0,
              "ticks": ""
             }
            },
            "type": "scattergeo"
           }
          ],
          "scattergl": [
           {
            "marker": {
             "colorbar": {
              "outlinewidth": 0,
              "ticks": ""
             }
            },
            "type": "scattergl"
           }
          ],
          "scattermapbox": [
           {
            "marker": {
             "colorbar": {
              "outlinewidth": 0,
              "ticks": ""
             }
            },
            "type": "scattermapbox"
           }
          ],
          "scatterpolar": [
           {
            "marker": {
             "colorbar": {
              "outlinewidth": 0,
              "ticks": ""
             }
            },
            "type": "scatterpolar"
           }
          ],
          "scatterpolargl": [
           {
            "marker": {
             "colorbar": {
              "outlinewidth": 0,
              "ticks": ""
             }
            },
            "type": "scatterpolargl"
           }
          ],
          "scatterternary": [
           {
            "marker": {
             "colorbar": {
              "outlinewidth": 0,
              "ticks": ""
             }
            },
            "type": "scatterternary"
           }
          ],
          "surface": [
           {
            "colorbar": {
             "outlinewidth": 0,
             "ticks": ""
            },
            "colorscale": [
             [
              0,
              "#0d0887"
             ],
             [
              0.1111111111111111,
              "#46039f"
             ],
             [
              0.2222222222222222,
              "#7201a8"
             ],
             [
              0.3333333333333333,
              "#9c179e"
             ],
             [
              0.4444444444444444,
              "#bd3786"
             ],
             [
              0.5555555555555556,
              "#d8576b"
             ],
             [
              0.6666666666666666,
              "#ed7953"
             ],
             [
              0.7777777777777778,
              "#fb9f3a"
             ],
             [
              0.8888888888888888,
              "#fdca26"
             ],
             [
              1,
              "#f0f921"
             ]
            ],
            "type": "surface"
           }
          ],
          "table": [
           {
            "cells": {
             "fill": {
              "color": "#EBF0F8"
             },
             "line": {
              "color": "white"
             }
            },
            "header": {
             "fill": {
              "color": "#C8D4E3"
             },
             "line": {
              "color": "white"
             }
            },
            "type": "table"
           }
          ]
         },
         "layout": {
          "annotationdefaults": {
           "arrowcolor": "#2a3f5f",
           "arrowhead": 0,
           "arrowwidth": 1
          },
          "autotypenumbers": "strict",
          "coloraxis": {
           "colorbar": {
            "outlinewidth": 0,
            "ticks": ""
           }
          },
          "colorscale": {
           "diverging": [
            [
             0,
             "#8e0152"
            ],
            [
             0.1,
             "#c51b7d"
            ],
            [
             0.2,
             "#de77ae"
            ],
            [
             0.3,
             "#f1b6da"
            ],
            [
             0.4,
             "#fde0ef"
            ],
            [
             0.5,
             "#f7f7f7"
            ],
            [
             0.6,
             "#e6f5d0"
            ],
            [
             0.7,
             "#b8e186"
            ],
            [
             0.8,
             "#7fbc41"
            ],
            [
             0.9,
             "#4d9221"
            ],
            [
             1,
             "#276419"
            ]
           ],
           "sequential": [
            [
             0,
             "#0d0887"
            ],
            [
             0.1111111111111111,
             "#46039f"
            ],
            [
             0.2222222222222222,
             "#7201a8"
            ],
            [
             0.3333333333333333,
             "#9c179e"
            ],
            [
             0.4444444444444444,
             "#bd3786"
            ],
            [
             0.5555555555555556,
             "#d8576b"
            ],
            [
             0.6666666666666666,
             "#ed7953"
            ],
            [
             0.7777777777777778,
             "#fb9f3a"
            ],
            [
             0.8888888888888888,
             "#fdca26"
            ],
            [
             1,
             "#f0f921"
            ]
           ],
           "sequentialminus": [
            [
             0,
             "#0d0887"
            ],
            [
             0.1111111111111111,
             "#46039f"
            ],
            [
             0.2222222222222222,
             "#7201a8"
            ],
            [
             0.3333333333333333,
             "#9c179e"
            ],
            [
             0.4444444444444444,
             "#bd3786"
            ],
            [
             0.5555555555555556,
             "#d8576b"
            ],
            [
             0.6666666666666666,
             "#ed7953"
            ],
            [
             0.7777777777777778,
             "#fb9f3a"
            ],
            [
             0.8888888888888888,
             "#fdca26"
            ],
            [
             1,
             "#f0f921"
            ]
           ]
          },
          "colorway": [
           "#636efa",
           "#EF553B",
           "#00cc96",
           "#ab63fa",
           "#FFA15A",
           "#19d3f3",
           "#FF6692",
           "#B6E880",
           "#FF97FF",
           "#FECB52"
          ],
          "font": {
           "color": "#2a3f5f"
          },
          "geo": {
           "bgcolor": "white",
           "lakecolor": "white",
           "landcolor": "#E5ECF6",
           "showlakes": true,
           "showland": true,
           "subunitcolor": "white"
          },
          "hoverlabel": {
           "align": "left"
          },
          "hovermode": "closest",
          "mapbox": {
           "style": "light"
          },
          "paper_bgcolor": "white",
          "plot_bgcolor": "#E5ECF6",
          "polar": {
           "angularaxis": {
            "gridcolor": "white",
            "linecolor": "white",
            "ticks": ""
           },
           "bgcolor": "#E5ECF6",
           "radialaxis": {
            "gridcolor": "white",
            "linecolor": "white",
            "ticks": ""
           }
          },
          "scene": {
           "xaxis": {
            "backgroundcolor": "#E5ECF6",
            "gridcolor": "white",
            "gridwidth": 2,
            "linecolor": "white",
            "showbackground": true,
            "ticks": "",
            "zerolinecolor": "white"
           },
           "yaxis": {
            "backgroundcolor": "#E5ECF6",
            "gridcolor": "white",
            "gridwidth": 2,
            "linecolor": "white",
            "showbackground": true,
            "ticks": "",
            "zerolinecolor": "white"
           },
           "zaxis": {
            "backgroundcolor": "#E5ECF6",
            "gridcolor": "white",
            "gridwidth": 2,
            "linecolor": "white",
            "showbackground": true,
            "ticks": "",
            "zerolinecolor": "white"
           }
          },
          "shapedefaults": {
           "line": {
            "color": "#2a3f5f"
           }
          },
          "ternary": {
           "aaxis": {
            "gridcolor": "white",
            "linecolor": "white",
            "ticks": ""
           },
           "baxis": {
            "gridcolor": "white",
            "linecolor": "white",
            "ticks": ""
           },
           "bgcolor": "#E5ECF6",
           "caxis": {
            "gridcolor": "white",
            "linecolor": "white",
            "ticks": ""
           }
          },
          "title": {
           "x": 0.05
          },
          "xaxis": {
           "automargin": true,
           "gridcolor": "white",
           "linecolor": "white",
           "ticks": "",
           "title": {
            "standoff": 15
           },
           "zerolinecolor": "white",
           "zerolinewidth": 2
          },
          "yaxis": {
           "automargin": true,
           "gridcolor": "white",
           "linecolor": "white",
           "ticks": "",
           "title": {
            "standoff": 15
           },
           "zerolinecolor": "white",
           "zerolinewidth": 2
          }
         }
        },
        "xaxis": {
         "anchor": "y",
         "domain": [
          0,
          0.98
         ],
         "title": {
          "text": "data"
         }
        },
        "xaxis2": {
         "anchor": "y2",
         "domain": [
          0,
          0.98
         ],
         "matches": "x",
         "showticklabels": false
        },
        "yaxis": {
         "anchor": "x",
         "domain": [
          0,
          0.485
         ],
         "title": {
          "text": "percentual"
         }
        },
        "yaxis2": {
         "anchor": "x2",
         "domain": [
          0.515,
          1
         ],
         "matches": "y",
         "title": {
          "text": "percentual"
         }
        }
       }
      },
      "text/html": [
       "<div>                            <div id=\"bb50e408-ff23-4f9b-9ce9-f171c649f0a0\" class=\"plotly-graph-div\" style=\"height:525px; width:100%;\"></div>            <script type=\"text/javascript\">                require([\"plotly\"], function(Plotly) {                    window.PLOTLYENV=window.PLOTLYENV || {};                                    if (document.getElementById(\"bb50e408-ff23-4f9b-9ce9-f171c649f0a0\")) {                    Plotly.newPlot(                        \"bb50e408-ff23-4f9b-9ce9-f171c649f0a0\",                        [{\"hovertemplate\":\"nome_candidato=Bolsonaro<br>turno=1<br>data=%{x}<br>percentual=%{y}<extra></extra>\",\"legendgroup\":\"Bolsonaro\",\"line\":{\"color\":\"#636efa\",\"dash\":\"solid\"},\"marker\":{\"symbol\":\"circle\"},\"mode\":\"lines\",\"name\":\"Bolsonaro\",\"orientation\":\"v\",\"showlegend\":true,\"x\":[\"2021-05-12\",\"2021-07-08\",\"2021-09-15\",\"2021-12-16\",\"2022-03-23\",\"2022-05-26\",\"2022-06-23\",\"2022-07-28\",\"2022-08-18\",\"2022-09-01\",\"2022-09-09\",\"2022-09-15\",\"2022-09-22\",\"2022-09-29\",\"2022-10-01\"],\"xaxis\":\"x2\",\"y\":[23.0,25.0,26.0,22.0,26.0,27.0,28.0,29.0,32.0,32.0,34.0,33.0,33.0,34.0,34.0],\"yaxis\":\"y2\",\"type\":\"scatter\"},{\"hovertemplate\":\"nome_candidato=Bolsonaro<br>turno=2<br>data=%{x}<br>percentual=%{y}<extra></extra>\",\"legendgroup\":\"Bolsonaro\",\"line\":{\"color\":\"#636efa\",\"dash\":\"solid\"},\"marker\":{\"symbol\":\"circle\"},\"mode\":\"lines\",\"name\":\"Bolsonaro\",\"orientation\":\"v\",\"showlegend\":false,\"x\":[\"2021-05-12\",\"2021-07-08\",\"2021-09-15\",\"2021-12-16\",\"2022-03-23\",\"2022-05-26\",\"2022-06-23\",\"2022-07-28\",\"2022-08-18\",\"2022-09-01\",\"2022-09-09\",\"2022-09-15\",\"2022-09-22\",\"2022-09-29\",\"2022-10-01\",\"2022-10-07\",\"2022-10-14\",\"2022-10-19\",\"2022-10-27\",\"2022-10-29\"],\"xaxis\":\"x\",\"y\":[32.0,31.0,31.0,30.0,34.0,33.0,34.0,35.0,37.0,37.0,39.0,38.0,38.0,39.0,38.0,44.0,44.0,45.0,44.0,45.0],\"yaxis\":\"y\",\"type\":\"scatter\"},{\"hovertemplate\":\"nome_candidato=Lula<br>turno=1<br>data=%{x}<br>percentual=%{y}<extra></extra>\",\"legendgroup\":\"Lula\",\"line\":{\"color\":\"#EF553B\",\"dash\":\"solid\"},\"marker\":{\"symbol\":\"circle\"},\"mode\":\"lines\",\"name\":\"Lula\",\"orientation\":\"v\",\"showlegend\":true,\"x\":[\"2021-05-12\",\"2021-07-08\",\"2021-09-15\",\"2021-12-16\",\"2022-03-23\",\"2022-05-26\",\"2022-06-23\",\"2022-07-28\",\"2022-08-18\",\"2022-09-01\",\"2022-09-09\",\"2022-09-15\",\"2022-09-22\",\"2022-09-29\",\"2022-10-01\"],\"xaxis\":\"x2\",\"y\":[41.0,46.0,44.0,48.0,43.0,48.0,47.0,47.0,47.0,45.0,45.0,45.0,47.0,48.0,48.0],\"yaxis\":\"y2\",\"type\":\"scatter\"},{\"hovertemplate\":\"nome_candidato=Lula<br>turno=2<br>data=%{x}<br>percentual=%{y}<extra></extra>\",\"legendgroup\":\"Lula\",\"line\":{\"color\":\"#EF553B\",\"dash\":\"solid\"},\"marker\":{\"symbol\":\"circle\"},\"mode\":\"lines\",\"name\":\"Lula\",\"orientation\":\"v\",\"showlegend\":false,\"x\":[\"2021-05-12\",\"2021-07-08\",\"2021-09-15\",\"2021-12-16\",\"2022-03-23\",\"2022-05-26\",\"2022-06-23\",\"2022-07-28\",\"2022-08-18\",\"2022-09-01\",\"2022-09-09\",\"2022-09-15\",\"2022-09-22\",\"2022-09-29\",\"2022-10-01\",\"2022-10-07\",\"2022-10-14\",\"2022-10-19\",\"2022-10-27\",\"2022-10-29\"],\"xaxis\":\"x\",\"y\":[55.0,58.0,56.0,59.0,55.0,58.0,57.0,55.0,54.0,54.0,53.0,54.0,54.0,54.0,54.0,49.0,49.0,49.0,49.0,49.0],\"yaxis\":\"y\",\"type\":\"scatter\"}],                        {\"template\":{\"data\":{\"histogram2dcontour\":[{\"type\":\"histogram2dcontour\",\"colorbar\":{\"outlinewidth\":0,\"ticks\":\"\"},\"colorscale\":[[0.0,\"#0d0887\"],[0.1111111111111111,\"#46039f\"],[0.2222222222222222,\"#7201a8\"],[0.3333333333333333,\"#9c179e\"],[0.4444444444444444,\"#bd3786\"],[0.5555555555555556,\"#d8576b\"],[0.6666666666666666,\"#ed7953\"],[0.7777777777777778,\"#fb9f3a\"],[0.8888888888888888,\"#fdca26\"],[1.0,\"#f0f921\"]]}],\"choropleth\":[{\"type\":\"choropleth\",\"colorbar\":{\"outlinewidth\":0,\"ticks\":\"\"}}],\"histogram2d\":[{\"type\":\"histogram2d\",\"colorbar\":{\"outlinewidth\":0,\"ticks\":\"\"},\"colorscale\":[[0.0,\"#0d0887\"],[0.1111111111111111,\"#46039f\"],[0.2222222222222222,\"#7201a8\"],[0.3333333333333333,\"#9c179e\"],[0.4444444444444444,\"#bd3786\"],[0.5555555555555556,\"#d8576b\"],[0.6666666666666666,\"#ed7953\"],[0.7777777777777778,\"#fb9f3a\"],[0.8888888888888888,\"#fdca26\"],[1.0,\"#f0f921\"]]}],\"heatmap\":[{\"type\":\"heatmap\",\"colorbar\":{\"outlinewidth\":0,\"ticks\":\"\"},\"colorscale\":[[0.0,\"#0d0887\"],[0.1111111111111111,\"#46039f\"],[0.2222222222222222,\"#7201a8\"],[0.3333333333333333,\"#9c179e\"],[0.4444444444444444,\"#bd3786\"],[0.5555555555555556,\"#d8576b\"],[0.6666666666666666,\"#ed7953\"],[0.7777777777777778,\"#fb9f3a\"],[0.8888888888888888,\"#fdca26\"],[1.0,\"#f0f921\"]]}],\"heatmapgl\":[{\"type\":\"heatmapgl\",\"colorbar\":{\"outlinewidth\":0,\"ticks\":\"\"},\"colorscale\":[[0.0,\"#0d0887\"],[0.1111111111111111,\"#46039f\"],[0.2222222222222222,\"#7201a8\"],[0.3333333333333333,\"#9c179e\"],[0.4444444444444444,\"#bd3786\"],[0.5555555555555556,\"#d8576b\"],[0.6666666666666666,\"#ed7953\"],[0.7777777777777778,\"#fb9f3a\"],[0.8888888888888888,\"#fdca26\"],[1.0,\"#f0f921\"]]}],\"contourcarpet\":[{\"type\":\"contourcarpet\",\"colorbar\":{\"outlinewidth\":0,\"ticks\":\"\"}}],\"contour\":[{\"type\":\"contour\",\"colorbar\":{\"outlinewidth\":0,\"ticks\":\"\"},\"colorscale\":[[0.0,\"#0d0887\"],[0.1111111111111111,\"#46039f\"],[0.2222222222222222,\"#7201a8\"],[0.3333333333333333,\"#9c179e\"],[0.4444444444444444,\"#bd3786\"],[0.5555555555555556,\"#d8576b\"],[0.6666666666666666,\"#ed7953\"],[0.7777777777777778,\"#fb9f3a\"],[0.8888888888888888,\"#fdca26\"],[1.0,\"#f0f921\"]]}],\"surface\":[{\"type\":\"surface\",\"colorbar\":{\"outlinewidth\":0,\"ticks\":\"\"},\"colorscale\":[[0.0,\"#0d0887\"],[0.1111111111111111,\"#46039f\"],[0.2222222222222222,\"#7201a8\"],[0.3333333333333333,\"#9c179e\"],[0.4444444444444444,\"#bd3786\"],[0.5555555555555556,\"#d8576b\"],[0.6666666666666666,\"#ed7953\"],[0.7777777777777778,\"#fb9f3a\"],[0.8888888888888888,\"#fdca26\"],[1.0,\"#f0f921\"]]}],\"mesh3d\":[{\"type\":\"mesh3d\",\"colorbar\":{\"outlinewidth\":0,\"ticks\":\"\"}}],\"scatter\":[{\"fillpattern\":{\"fillmode\":\"overlay\",\"size\":10,\"solidity\":0.2},\"type\":\"scatter\"}],\"parcoords\":[{\"type\":\"parcoords\",\"line\":{\"colorbar\":{\"outlinewidth\":0,\"ticks\":\"\"}}}],\"scatterpolargl\":[{\"type\":\"scatterpolargl\",\"marker\":{\"colorbar\":{\"outlinewidth\":0,\"ticks\":\"\"}}}],\"bar\":[{\"error_x\":{\"color\":\"#2a3f5f\"},\"error_y\":{\"color\":\"#2a3f5f\"},\"marker\":{\"line\":{\"color\":\"#E5ECF6\",\"width\":0.5},\"pattern\":{\"fillmode\":\"overlay\",\"size\":10,\"solidity\":0.2}},\"type\":\"bar\"}],\"scattergeo\":[{\"type\":\"scattergeo\",\"marker\":{\"colorbar\":{\"outlinewidth\":0,\"ticks\":\"\"}}}],\"scatterpolar\":[{\"type\":\"scatterpolar\",\"marker\":{\"colorbar\":{\"outlinewidth\":0,\"ticks\":\"\"}}}],\"histogram\":[{\"marker\":{\"pattern\":{\"fillmode\":\"overlay\",\"size\":10,\"solidity\":0.2}},\"type\":\"histogram\"}],\"scattergl\":[{\"type\":\"scattergl\",\"marker\":{\"colorbar\":{\"outlinewidth\":0,\"ticks\":\"\"}}}],\"scatter3d\":[{\"type\":\"scatter3d\",\"line\":{\"colorbar\":{\"outlinewidth\":0,\"ticks\":\"\"}},\"marker\":{\"colorbar\":{\"outlinewidth\":0,\"ticks\":\"\"}}}],\"scattermapbox\":[{\"type\":\"scattermapbox\",\"marker\":{\"colorbar\":{\"outlinewidth\":0,\"ticks\":\"\"}}}],\"scatterternary\":[{\"type\":\"scatterternary\",\"marker\":{\"colorbar\":{\"outlinewidth\":0,\"ticks\":\"\"}}}],\"scattercarpet\":[{\"type\":\"scattercarpet\",\"marker\":{\"colorbar\":{\"outlinewidth\":0,\"ticks\":\"\"}}}],\"carpet\":[{\"aaxis\":{\"endlinecolor\":\"#2a3f5f\",\"gridcolor\":\"white\",\"linecolor\":\"white\",\"minorgridcolor\":\"white\",\"startlinecolor\":\"#2a3f5f\"},\"baxis\":{\"endlinecolor\":\"#2a3f5f\",\"gridcolor\":\"white\",\"linecolor\":\"white\",\"minorgridcolor\":\"white\",\"startlinecolor\":\"#2a3f5f\"},\"type\":\"carpet\"}],\"table\":[{\"cells\":{\"fill\":{\"color\":\"#EBF0F8\"},\"line\":{\"color\":\"white\"}},\"header\":{\"fill\":{\"color\":\"#C8D4E3\"},\"line\":{\"color\":\"white\"}},\"type\":\"table\"}],\"barpolar\":[{\"marker\":{\"line\":{\"color\":\"#E5ECF6\",\"width\":0.5},\"pattern\":{\"fillmode\":\"overlay\",\"size\":10,\"solidity\":0.2}},\"type\":\"barpolar\"}],\"pie\":[{\"automargin\":true,\"type\":\"pie\"}]},\"layout\":{\"autotypenumbers\":\"strict\",\"colorway\":[\"#636efa\",\"#EF553B\",\"#00cc96\",\"#ab63fa\",\"#FFA15A\",\"#19d3f3\",\"#FF6692\",\"#B6E880\",\"#FF97FF\",\"#FECB52\"],\"font\":{\"color\":\"#2a3f5f\"},\"hovermode\":\"closest\",\"hoverlabel\":{\"align\":\"left\"},\"paper_bgcolor\":\"white\",\"plot_bgcolor\":\"#E5ECF6\",\"polar\":{\"bgcolor\":\"#E5ECF6\",\"angularaxis\":{\"gridcolor\":\"white\",\"linecolor\":\"white\",\"ticks\":\"\"},\"radialaxis\":{\"gridcolor\":\"white\",\"linecolor\":\"white\",\"ticks\":\"\"}},\"ternary\":{\"bgcolor\":\"#E5ECF6\",\"aaxis\":{\"gridcolor\":\"white\",\"linecolor\":\"white\",\"ticks\":\"\"},\"baxis\":{\"gridcolor\":\"white\",\"linecolor\":\"white\",\"ticks\":\"\"},\"caxis\":{\"gridcolor\":\"white\",\"linecolor\":\"white\",\"ticks\":\"\"}},\"coloraxis\":{\"colorbar\":{\"outlinewidth\":0,\"ticks\":\"\"}},\"colorscale\":{\"sequential\":[[0.0,\"#0d0887\"],[0.1111111111111111,\"#46039f\"],[0.2222222222222222,\"#7201a8\"],[0.3333333333333333,\"#9c179e\"],[0.4444444444444444,\"#bd3786\"],[0.5555555555555556,\"#d8576b\"],[0.6666666666666666,\"#ed7953\"],[0.7777777777777778,\"#fb9f3a\"],[0.8888888888888888,\"#fdca26\"],[1.0,\"#f0f921\"]],\"sequentialminus\":[[0.0,\"#0d0887\"],[0.1111111111111111,\"#46039f\"],[0.2222222222222222,\"#7201a8\"],[0.3333333333333333,\"#9c179e\"],[0.4444444444444444,\"#bd3786\"],[0.5555555555555556,\"#d8576b\"],[0.6666666666666666,\"#ed7953\"],[0.7777777777777778,\"#fb9f3a\"],[0.8888888888888888,\"#fdca26\"],[1.0,\"#f0f921\"]],\"diverging\":[[0,\"#8e0152\"],[0.1,\"#c51b7d\"],[0.2,\"#de77ae\"],[0.3,\"#f1b6da\"],[0.4,\"#fde0ef\"],[0.5,\"#f7f7f7\"],[0.6,\"#e6f5d0\"],[0.7,\"#b8e186\"],[0.8,\"#7fbc41\"],[0.9,\"#4d9221\"],[1,\"#276419\"]]},\"xaxis\":{\"gridcolor\":\"white\",\"linecolor\":\"white\",\"ticks\":\"\",\"title\":{\"standoff\":15},\"zerolinecolor\":\"white\",\"automargin\":true,\"zerolinewidth\":2},\"yaxis\":{\"gridcolor\":\"white\",\"linecolor\":\"white\",\"ticks\":\"\",\"title\":{\"standoff\":15},\"zerolinecolor\":\"white\",\"automargin\":true,\"zerolinewidth\":2},\"scene\":{\"xaxis\":{\"backgroundcolor\":\"#E5ECF6\",\"gridcolor\":\"white\",\"linecolor\":\"white\",\"showbackground\":true,\"ticks\":\"\",\"zerolinecolor\":\"white\",\"gridwidth\":2},\"yaxis\":{\"backgroundcolor\":\"#E5ECF6\",\"gridcolor\":\"white\",\"linecolor\":\"white\",\"showbackground\":true,\"ticks\":\"\",\"zerolinecolor\":\"white\",\"gridwidth\":2},\"zaxis\":{\"backgroundcolor\":\"#E5ECF6\",\"gridcolor\":\"white\",\"linecolor\":\"white\",\"showbackground\":true,\"ticks\":\"\",\"zerolinecolor\":\"white\",\"gridwidth\":2}},\"shapedefaults\":{\"line\":{\"color\":\"#2a3f5f\"}},\"annotationdefaults\":{\"arrowcolor\":\"#2a3f5f\",\"arrowhead\":0,\"arrowwidth\":1},\"geo\":{\"bgcolor\":\"white\",\"landcolor\":\"#E5ECF6\",\"subunitcolor\":\"white\",\"showland\":true,\"showlakes\":true,\"lakecolor\":\"white\"},\"title\":{\"x\":0.05},\"mapbox\":{\"style\":\"light\"}}},\"xaxis\":{\"anchor\":\"y\",\"domain\":[0.0,0.98],\"title\":{\"text\":\"data\"}},\"yaxis\":{\"anchor\":\"x\",\"domain\":[0.0,0.485],\"title\":{\"text\":\"percentual\"}},\"xaxis2\":{\"anchor\":\"y2\",\"domain\":[0.0,0.98],\"matches\":\"x\",\"showticklabels\":false},\"yaxis2\":{\"anchor\":\"x2\",\"domain\":[0.515,1.0],\"matches\":\"y\",\"title\":{\"text\":\"percentual\"}},\"annotations\":[{\"font\":{},\"showarrow\":false,\"text\":\"turno=2\",\"textangle\":90,\"x\":0.98,\"xanchor\":\"left\",\"xref\":\"paper\",\"y\":0.2425,\"yanchor\":\"middle\",\"yref\":\"paper\"},{\"font\":{},\"showarrow\":false,\"text\":\"turno=1\",\"textangle\":90,\"x\":0.98,\"xanchor\":\"left\",\"xref\":\"paper\",\"y\":0.7575000000000001,\"yanchor\":\"middle\",\"yref\":\"paper\"}],\"legend\":{\"title\":{\"text\":\"nome_candidato\"},\"tracegroupgap\":0},\"margin\":{\"t\":60}},                        {\"responsive\": true}                    ).then(function(){\n",
       "                            \n",
       "var gd = document.getElementById('bb50e408-ff23-4f9b-9ce9-f171c649f0a0');\n",
       "var x = new MutationObserver(function (mutations, observer) {{\n",
       "        var display = window.getComputedStyle(gd).display;\n",
       "        if (!display || display === 'none') {{\n",
       "            console.log([gd, 'removed!']);\n",
       "            Plotly.purge(gd);\n",
       "            observer.disconnect();\n",
       "        }}\n",
       "}});\n",
       "\n",
       "// Listen for the removal of the full notebook cells\n",
       "var notebookContainer = gd.closest('#notebook-container');\n",
       "if (notebookContainer) {{\n",
       "    x.observe(notebookContainer, {childList: true});\n",
       "}}\n",
       "\n",
       "// Listen for the clearing of the current output cell\n",
       "var outputEl = gd.closest('.output');\n",
       "if (outputEl) {{\n",
       "    x.observe(outputEl, {childList: true});\n",
       "}}\n",
       "\n",
       "                        })                };                });            </script>        </div>"
      ]
     },
     "metadata": {},
     "output_type": "display_data"
    }
   ],
   "source": [
    "pesquisas_2022.plot(x='data', y='percentual', color='nome_candidato', facet_row='turno')"
   ]
  },
  {
   "cell_type": "markdown",
   "id": "fd2446b6",
   "metadata": {},
   "source": [
    "# Transformando o DataFrame em CSV"
   ]
  },
  {
   "cell_type": "code",
   "execution_count": 48,
   "id": "308cbcdc",
   "metadata": {},
   "outputs": [],
   "source": [
    "#Criando DataFrame no formato CSV\n",
    "pesquisas_2022['data']= pesquisas_2022['data'].apply(lambda a: pd.to_datetime(a).date())\n",
    "pesquisas_2022.to_excel('pesquisas_2022.xlsx', index=False)"
   ]
  }
 ],
 "metadata": {
  "kernelspec": {
   "display_name": "Python 3",
   "language": "python",
   "name": "python3"
  },
  "language_info": {
   "codemirror_mode": {
    "name": "ipython",
    "version": 3
   },
   "file_extension": ".py",
   "mimetype": "text/x-python",
   "name": "python",
   "nbconvert_exporter": "python",
   "pygments_lexer": "ipython3",
   "version": "3.9.13"
  }
 },
 "nbformat": 4,
 "nbformat_minor": 5
}
